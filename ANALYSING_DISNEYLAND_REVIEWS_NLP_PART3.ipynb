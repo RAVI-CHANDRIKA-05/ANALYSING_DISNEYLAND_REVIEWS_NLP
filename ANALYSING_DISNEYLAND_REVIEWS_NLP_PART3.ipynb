{
 "cells": [
  {
   "cell_type": "markdown",
   "id": "6dbcee8d",
   "metadata": {},
   "source": [
    "# NLTK"
   ]
  },
  {
   "cell_type": "markdown",
   "id": "9d922e8c",
   "metadata": {},
   "source": [
    "### Project Goal: \n",
    "To compare customer sentiment regarding attractions at three Disneyland locations (Anaheim, Paris, and Hong Kong) using sentiment analysis, emotion detection, and n-gram associations. To identify keywords using topic modeling that can help Disney determine visitor pain points and improve park experience.<br>\n",
    "### Dataset:\n",
    "Dataset is from [Kaggle](https://www.kaggle.com/arushchillar/disneyland-reviews) containing 42,000 reviews from TripAdvisor about three Disneyland branch locations: California, Paris, Hong Kong. here are 19,406 reviews about Anaheim, 13,630 about Paris, and 9,620 about Hong Kong. Data variables include Review_ID, Rating, Year_Month, Reviewer_Location, Review_Text, and Disneyland_Branch.<br>"
   ]
  },
  {
   "cell_type": "code",
   "execution_count": 1,
   "id": "9eeda6c1",
   "metadata": {},
   "outputs": [],
   "source": [
    "import numpy as np\n",
    "import pandas as pd\n",
    "import seaborn as sns\n",
    "import matplotlib.pyplot as plt\n",
    "import re\n",
    "from textblob import TextBlob\n",
    "import nltk\n",
    "from nltk import FreqDist\n",
    "from nltk.tokenize import RegexpTokenizer\n",
    "from nltk.corpus import state_union\n",
    "from nltk.corpus import stopwords\n",
    "from nltk.tokenize import word_tokenize\n",
    "import spacy\n",
    "import string\n",
    "pd.options.mode.chained_assignment = None  # default='warn'\n",
    "#nltk.download('averaged_perceptron_tagger')"
   ]
  },
  {
   "cell_type": "code",
   "execution_count": 2,
   "id": "f9262df0",
   "metadata": {},
   "outputs": [],
   "source": [
    "%matplotlib inline\n",
    "sns.set_style(\"white\")\n",
    "\n",
    "class color:\n",
    "   BLUE = '\\033[94m'\n",
    "   BOLD = '\\033[1m'\n",
    "   END = '\\033[0m'"
   ]
  },
  {
   "cell_type": "markdown",
   "id": "5c438bff",
   "metadata": {},
   "source": [
    "## Load Data"
   ]
  },
  {
   "cell_type": "code",
   "execution_count": 3,
   "id": "a0a63e76",
   "metadata": {},
   "outputs": [
    {
     "data": {
      "text/html": [
       "<div>\n",
       "<style scoped>\n",
       "    .dataframe tbody tr th:only-of-type {\n",
       "        vertical-align: middle;\n",
       "    }\n",
       "\n",
       "    .dataframe tbody tr th {\n",
       "        vertical-align: top;\n",
       "    }\n",
       "\n",
       "    .dataframe thead th {\n",
       "        text-align: right;\n",
       "    }\n",
       "</style>\n",
       "<table border=\"1\" class=\"dataframe\">\n",
       "  <thead>\n",
       "    <tr style=\"text-align: right;\">\n",
       "      <th></th>\n",
       "      <th>Review_ID</th>\n",
       "      <th>Rating</th>\n",
       "      <th>Year_Month</th>\n",
       "      <th>Reviewer_Location</th>\n",
       "      <th>Review_Text</th>\n",
       "      <th>Branch</th>\n",
       "    </tr>\n",
       "  </thead>\n",
       "  <tbody>\n",
       "    <tr>\n",
       "      <th>0</th>\n",
       "      <td>670772142</td>\n",
       "      <td>4</td>\n",
       "      <td>2019-4</td>\n",
       "      <td>Australia</td>\n",
       "      <td>If you've ever been to Disneyland anywhere you...</td>\n",
       "      <td>Disneyland_HongKong</td>\n",
       "    </tr>\n",
       "    <tr>\n",
       "      <th>1</th>\n",
       "      <td>670682799</td>\n",
       "      <td>4</td>\n",
       "      <td>2019-5</td>\n",
       "      <td>Philippines</td>\n",
       "      <td>Its been a while since d last time we visit HK...</td>\n",
       "      <td>Disneyland_HongKong</td>\n",
       "    </tr>\n",
       "    <tr>\n",
       "      <th>2</th>\n",
       "      <td>670623270</td>\n",
       "      <td>4</td>\n",
       "      <td>2019-4</td>\n",
       "      <td>United Arab Emirates</td>\n",
       "      <td>Thanks God it wasn   t too hot or too humid wh...</td>\n",
       "      <td>Disneyland_HongKong</td>\n",
       "    </tr>\n",
       "    <tr>\n",
       "      <th>3</th>\n",
       "      <td>670607911</td>\n",
       "      <td>4</td>\n",
       "      <td>2019-4</td>\n",
       "      <td>Australia</td>\n",
       "      <td>HK Disneyland is a great compact park. Unfortu...</td>\n",
       "      <td>Disneyland_HongKong</td>\n",
       "    </tr>\n",
       "    <tr>\n",
       "      <th>4</th>\n",
       "      <td>670607296</td>\n",
       "      <td>4</td>\n",
       "      <td>2019-4</td>\n",
       "      <td>United Kingdom</td>\n",
       "      <td>the location is not in the city, took around 1...</td>\n",
       "      <td>Disneyland_HongKong</td>\n",
       "    </tr>\n",
       "  </tbody>\n",
       "</table>\n",
       "</div>"
      ],
      "text/plain": [
       "   Review_ID  Rating Year_Month     Reviewer_Location  \\\n",
       "0  670772142       4     2019-4             Australia   \n",
       "1  670682799       4     2019-5           Philippines   \n",
       "2  670623270       4     2019-4  United Arab Emirates   \n",
       "3  670607911       4     2019-4             Australia   \n",
       "4  670607296       4     2019-4        United Kingdom   \n",
       "\n",
       "                                         Review_Text               Branch  \n",
       "0  If you've ever been to Disneyland anywhere you...  Disneyland_HongKong  \n",
       "1  Its been a while since d last time we visit HK...  Disneyland_HongKong  \n",
       "2  Thanks God it wasn   t too hot or too humid wh...  Disneyland_HongKong  \n",
       "3  HK Disneyland is a great compact park. Unfortu...  Disneyland_HongKong  \n",
       "4  the location is not in the city, took around 1...  Disneyland_HongKong  "
      ]
     },
     "execution_count": 3,
     "metadata": {},
     "output_type": "execute_result"
    }
   ],
   "source": [
    "Disneyland = pd.read_csv ('DisneylandReviews.csv', encoding='unicode_escape')\n",
    "Disneyland.head()"
   ]
  },
  {
   "cell_type": "code",
   "execution_count": 4,
   "id": "244d7ba9",
   "metadata": {},
   "outputs": [
    {
     "name": "stdout",
     "output_type": "stream",
     "text": [
      "<class 'pandas.core.frame.DataFrame'>\n",
      "RangeIndex: 42656 entries, 0 to 42655\n",
      "Data columns (total 6 columns):\n",
      " #   Column             Non-Null Count  Dtype \n",
      "---  ------             --------------  ----- \n",
      " 0   Review_ID          42656 non-null  int64 \n",
      " 1   Rating             42656 non-null  int64 \n",
      " 2   Year_Month         42656 non-null  object\n",
      " 3   Reviewer_Location  42656 non-null  object\n",
      " 4   Review_Text        42656 non-null  object\n",
      " 5   Branch             42656 non-null  object\n",
      "dtypes: int64(2), object(4)\n",
      "memory usage: 2.0+ MB\n"
     ]
    }
   ],
   "source": [
    "Disneyland.info()"
   ]
  },
  {
   "cell_type": "code",
   "execution_count": 5,
   "id": "12865b67",
   "metadata": {},
   "outputs": [],
   "source": [
    "#To select rows whose column value equals 'missing' in 'Year_Month':\n",
    "missing = Disneyland.loc[Disneyland['Year_Month'] == 'missing']\n",
    "#keep the missing rows seperate\n",
    "Disneyland = Disneyland[Disneyland.Year_Month != 'missing']"
   ]
  },
  {
   "cell_type": "code",
   "execution_count": 6,
   "id": "bbfa2f16",
   "metadata": {},
   "outputs": [],
   "source": [
    "#get year from the year_month\n",
    "Disneyland['Year'] = pd.to_datetime(Disneyland['Year_Month']).dt.strftime('%Y')"
   ]
  },
  {
   "cell_type": "code",
   "execution_count": 7,
   "id": "36eb4c65",
   "metadata": {},
   "outputs": [],
   "source": [
    "# Using apply(str) method\n",
    "Disneyland['Month']=Disneyland['Year_Month'].apply(str)\n",
    "Disneyland['Month']= Disneyland['Month'].apply(lambda x: x[5:])"
   ]
  },
  {
   "cell_type": "code",
   "execution_count": 8,
   "id": "e7c08ed7",
   "metadata": {},
   "outputs": [
    {
     "name": "stderr",
     "output_type": "stream",
     "text": [
      "C:\\Users\\chand\\AppData\\Local\\Temp\\ipykernel_12780\\470078404.py:2: FutureWarning: The frame.append method is deprecated and will be removed from pandas in a future version. Use pandas.concat instead.\n",
      "  Disneyland = Disneyland.append(missing)\n"
     ]
    }
   ],
   "source": [
    "#join back the missing in year_month\n",
    "Disneyland = Disneyland.append(missing)\n",
    "#Disneyland.tail()"
   ]
  },
  {
   "cell_type": "markdown",
   "id": "0dcdf89d",
   "metadata": {},
   "source": [
    "#### Rename the fields in Branch column\n",
    "There are 3 fields in Branch column we will rename them for our convenience as following"
   ]
  },
  {
   "cell_type": "code",
   "execution_count": 9,
   "id": "6b7479b6",
   "metadata": {},
   "outputs": [],
   "source": [
    "Disneyland['Branch'] = Disneyland['Branch'].replace({'Disneyland_HongKong': 'HongKong', \n",
    "                                                     'Disneyland_California':'California', \n",
    "                                                     'Disneyland_Paris':'Paris'})"
   ]
  },
  {
   "cell_type": "markdown",
   "id": "a485b93a",
   "metadata": {},
   "source": [
    "## Text analytics"
   ]
  },
  {
   "cell_type": "code",
   "execution_count": 10,
   "id": "f3720497",
   "metadata": {},
   "outputs": [],
   "source": [
    "reviews = Disneyland['Review_Text']\n",
    "#reviews"
   ]
  },
  {
   "cell_type": "code",
   "execution_count": 11,
   "id": "96cc5d84",
   "metadata": {},
   "outputs": [],
   "source": [
    "#strip ascii characters\n",
    "def _removeNonAscii(s): return \"\".join(i for i in s if ord(i)<128)\n",
    "\n",
    "STOPWORDS_DICT = {lang: set(nltk.corpus.stopwords.words(lang)) for lang in nltk.corpus.stopwords.fileids()}\n",
    "\n",
    "#only interested in reviews written in English\n",
    "def get_language(text):\n",
    "    words = set(nltk.wordpunct_tokenize(text.lower()))\n",
    "    lang = max(((lang, len(words & stopwords)) for lang, stopwords in STOPWORDS_DICT.items()), key = lambda x: x[1])[0]\n",
    "    if lang == 'english':\n",
    "        return True\n",
    "    else:\n",
    "        return False"
   ]
  },
  {
   "cell_type": "code",
   "execution_count": 12,
   "id": "28b2c160",
   "metadata": {},
   "outputs": [],
   "source": [
    "#change type to string\n",
    "reviews = reviews.astype('str')"
   ]
  },
  {
   "cell_type": "code",
   "execution_count": 13,
   "id": "426a01c6",
   "metadata": {},
   "outputs": [
    {
     "name": "stdout",
     "output_type": "stream",
     "text": [
      "42642\n"
     ]
    }
   ],
   "source": [
    "eng_rev = reviews[reviews.apply(get_language)]\n",
    "#eng_rev.head()\n",
    "print(len(eng_rev)) #5 reviews not in english"
   ]
  },
  {
   "cell_type": "code",
   "execution_count": 14,
   "id": "7651d763",
   "metadata": {},
   "outputs": [
    {
     "data": {
      "text/plain": [
       "42619"
      ]
     },
     "execution_count": 14,
     "metadata": {},
     "output_type": "execute_result"
    }
   ],
   "source": [
    "#remove duplicates if any\n",
    "eng_rev.drop_duplicates(inplace=True)\n",
    "len(eng_rev)"
   ]
  },
  {
   "cell_type": "code",
   "execution_count": 15,
   "id": "0729eb14",
   "metadata": {},
   "outputs": [],
   "source": [
    "# Load English tokenizer, tagger, parser and NER\n",
    "nlp = spacy.load(\"en_core_web_sm\")\n"
   ]
  },
  {
   "cell_type": "code",
   "execution_count": 16,
   "id": "525bfebe",
   "metadata": {},
   "outputs": [],
   "source": [
    "#lemmatize\n",
    "def clean_comments(text):\n",
    "    #remove punctuations\n",
    "    regex = re.compile('[' + re.escape(string.punctuation) + '\\\\r\\\\t\\\\n]')\n",
    "    nopunct = regex.sub(\" \", str(text))\n",
    "    #use spacy to lemmatize comments\n",
    "    doc = nlp(nopunct, disable=['parser','ner'])\n",
    "    lemmatized = [token.lemma_ for token in doc]\n",
    "    return lemmatized"
   ]
  },
  {
   "cell_type": "code",
   "execution_count": 17,
   "id": "2d32c0a7",
   "metadata": {},
   "outputs": [],
   "source": [
    "#apply function to clean and lemmatize comments\n",
    "lemm = eng_rev.map(clean_comments)\n",
    "\n",
    "#lowercase words\n",
    "lemm = lemm.map(lambda x: [word.lower() for word in x])"
   ]
  },
  {
   "cell_type": "code",
   "execution_count": 18,
   "id": "70410f90",
   "metadata": {
    "scrolled": false
   },
   "outputs": [],
   "source": [
    "#turn all comments' tokens into one single list\n",
    "unlist_rev = [item for items in lemm for item in items]\n",
    "#unlist_rev = [x.strip('') for x in unlist_rev]\n",
    "#unlist_rev"
   ]
  },
  {
   "cell_type": "code",
   "execution_count": 22,
   "id": "bc5d6b5e",
   "metadata": {},
   "outputs": [],
   "source": [
    "#remove stopwords\n",
    "from nltk.corpus import stopwords\n",
    "stop_words = set(stopwords.words('english'))\n",
    "  \n",
    "cleaned_rev = [word for word in unlist_rev if word.lower() not in stop_words]\n",
    "\n",
    "#remove custom stop words\n",
    "my_stopwords = ['park', 'disney', 'disneyland', 'disney land', 'disney world',  'disneyworld',\n",
    "                'tokyo','paris', 'anaheim','california', 'hong kong','kong', 'hong']\n",
    "\n",
    "cleaned_rev = [word for word in cleaned_rev if word not in my_stopwords]\n",
    "\n",
    "\n",
    "#remove spaces\n",
    "cleaned_rev = [w for w in cleaned_rev if w != ' '] \n",
    "cleaned_rev = [w for w in cleaned_rev if w != '  '] \n",
    "cleaned_rev = [w for w in cleaned_rev if w != '   ']\n",
    "#cleaned_rev"
   ]
  },
  {
   "cell_type": "markdown",
   "id": "8363bc48",
   "metadata": {},
   "source": [
    "## Using n grams to find word patterns"
   ]
  },
  {
   "cell_type": "code",
   "execution_count": 23,
   "id": "177e1979",
   "metadata": {},
   "outputs": [],
   "source": [
    "bigrams = nltk.collocations.BigramAssocMeasures()\n",
    "trigrams = nltk.collocations.TrigramAssocMeasures()\n",
    "\n",
    "bigramFinder = nltk.collocations.BigramCollocationFinder.from_words(cleaned_rev)\n",
    "trigramFinder = nltk.collocations.TrigramCollocationFinder.from_words(cleaned_rev)"
   ]
  },
  {
   "cell_type": "markdown",
   "id": "c729ad54",
   "metadata": {},
   "source": [
    "### bigrams"
   ]
  },
  {
   "cell_type": "code",
   "execution_count": 24,
   "id": "5266d47c",
   "metadata": {},
   "outputs": [],
   "source": [
    "bigram_freq = bigramFinder.ngram_fd.items()"
   ]
  },
  {
   "cell_type": "code",
   "execution_count": 25,
   "id": "1d9f99db",
   "metadata": {},
   "outputs": [],
   "source": [
    "bigramFreqTable = pd.DataFrame(list(bigram_freq), columns=['bigram','freq']).sort_values(by='freq', ascending=False)"
   ]
  },
  {
   "cell_type": "code",
   "execution_count": 26,
   "id": "03ebe29c",
   "metadata": {},
   "outputs": [
    {
     "data": {
      "text/html": [
       "<div>\n",
       "<style scoped>\n",
       "    .dataframe tbody tr th:only-of-type {\n",
       "        vertical-align: middle;\n",
       "    }\n",
       "\n",
       "    .dataframe tbody tr th {\n",
       "        vertical-align: top;\n",
       "    }\n",
       "\n",
       "    .dataframe thead th {\n",
       "        text-align: right;\n",
       "    }\n",
       "</style>\n",
       "<table border=\"1\" class=\"dataframe\">\n",
       "  <thead>\n",
       "    <tr style=\"text-align: right;\">\n",
       "      <th></th>\n",
       "      <th>bigram</th>\n",
       "      <th>freq</th>\n",
       "    </tr>\n",
       "  </thead>\n",
       "  <tbody>\n",
       "    <tr>\n",
       "      <th>0</th>\n",
       "      <td>(fast, pass)</td>\n",
       "      <td>7580</td>\n",
       "    </tr>\n",
       "    <tr>\n",
       "      <th>1</th>\n",
       "      <td>(year, old)</td>\n",
       "      <td>4389</td>\n",
       "    </tr>\n",
       "    <tr>\n",
       "      <th>2</th>\n",
       "      <td>(space, mountain)</td>\n",
       "      <td>3819</td>\n",
       "    </tr>\n",
       "    <tr>\n",
       "      <th>3</th>\n",
       "      <td>(go, back)</td>\n",
       "      <td>3338</td>\n",
       "    </tr>\n",
       "    <tr>\n",
       "      <th>4</th>\n",
       "      <td>(one, day)</td>\n",
       "      <td>3045</td>\n",
       "    </tr>\n",
       "    <tr>\n",
       "      <th>5</th>\n",
       "      <td>(wait, time)</td>\n",
       "      <td>2640</td>\n",
       "    </tr>\n",
       "    <tr>\n",
       "      <th>6</th>\n",
       "      <td>(small, world)</td>\n",
       "      <td>2413</td>\n",
       "    </tr>\n",
       "    <tr>\n",
       "      <th>7</th>\n",
       "      <td>(great, time)</td>\n",
       "      <td>2321</td>\n",
       "    </tr>\n",
       "    <tr>\n",
       "      <th>8</th>\n",
       "      <td>(main, street)</td>\n",
       "      <td>2311</td>\n",
       "    </tr>\n",
       "    <tr>\n",
       "      <th>9</th>\n",
       "      <td>(make, sure)</td>\n",
       "      <td>2237</td>\n",
       "    </tr>\n",
       "    <tr>\n",
       "      <th>10</th>\n",
       "      <td>(cast, member)</td>\n",
       "      <td>2155</td>\n",
       "    </tr>\n",
       "    <tr>\n",
       "      <th>11</th>\n",
       "      <td>(indiana, jones)</td>\n",
       "      <td>2020</td>\n",
       "    </tr>\n",
       "    <tr>\n",
       "      <th>12</th>\n",
       "      <td>(first, time)</td>\n",
       "      <td>2012</td>\n",
       "    </tr>\n",
       "    <tr>\n",
       "      <th>13</th>\n",
       "      <td>(thunder, mountain)</td>\n",
       "      <td>1921</td>\n",
       "    </tr>\n",
       "    <tr>\n",
       "      <th>14</th>\n",
       "      <td>(2, day)</td>\n",
       "      <td>1907</td>\n",
       "    </tr>\n",
       "    <tr>\n",
       "      <th>15</th>\n",
       "      <td>(place, earth)</td>\n",
       "      <td>1845</td>\n",
       "    </tr>\n",
       "    <tr>\n",
       "      <th>16</th>\n",
       "      <td>(come, back)</td>\n",
       "      <td>1721</td>\n",
       "    </tr>\n",
       "    <tr>\n",
       "      <th>17</th>\n",
       "      <td>(long, line)</td>\n",
       "      <td>1708</td>\n",
       "    </tr>\n",
       "    <tr>\n",
       "      <th>18</th>\n",
       "      <td>(3, day)</td>\n",
       "      <td>1677</td>\n",
       "    </tr>\n",
       "    <tr>\n",
       "      <th>19</th>\n",
       "      <td>(feel, like)</td>\n",
       "      <td>1615</td>\n",
       "    </tr>\n",
       "    <tr>\n",
       "      <th>20</th>\n",
       "      <td>(happy, place)</td>\n",
       "      <td>1571</td>\n",
       "    </tr>\n",
       "    <tr>\n",
       "      <th>21</th>\n",
       "      <td>(time, go)</td>\n",
       "      <td>1537</td>\n",
       "    </tr>\n",
       "    <tr>\n",
       "      <th>22</th>\n",
       "      <td>(long, queue)</td>\n",
       "      <td>1524</td>\n",
       "    </tr>\n",
       "    <tr>\n",
       "      <th>23</th>\n",
       "      <td>(wait, line)</td>\n",
       "      <td>1450</td>\n",
       "    </tr>\n",
       "    <tr>\n",
       "      <th>24</th>\n",
       "      <td>(ride, close)</td>\n",
       "      <td>1431</td>\n",
       "    </tr>\n",
       "    <tr>\n",
       "      <th>25</th>\n",
       "      <td>(get, ride)</td>\n",
       "      <td>1424</td>\n",
       "    </tr>\n",
       "    <tr>\n",
       "      <th>26</th>\n",
       "      <td>(two, day)</td>\n",
       "      <td>1419</td>\n",
       "    </tr>\n",
       "    <tr>\n",
       "      <th>27</th>\n",
       "      <td>(go, ride)</td>\n",
       "      <td>1396</td>\n",
       "    </tr>\n",
       "    <tr>\n",
       "      <th>28</th>\n",
       "      <td>(good, time)</td>\n",
       "      <td>1358</td>\n",
       "    </tr>\n",
       "    <tr>\n",
       "      <th>29</th>\n",
       "      <td>(get, fast)</td>\n",
       "      <td>1349</td>\n",
       "    </tr>\n",
       "  </tbody>\n",
       "</table>\n",
       "</div>"
      ],
      "text/plain": [
       "                 bigram  freq\n",
       "0          (fast, pass)  7580\n",
       "1           (year, old)  4389\n",
       "2     (space, mountain)  3819\n",
       "3            (go, back)  3338\n",
       "4            (one, day)  3045\n",
       "5          (wait, time)  2640\n",
       "6        (small, world)  2413\n",
       "7         (great, time)  2321\n",
       "8        (main, street)  2311\n",
       "9          (make, sure)  2237\n",
       "10       (cast, member)  2155\n",
       "11     (indiana, jones)  2020\n",
       "12        (first, time)  2012\n",
       "13  (thunder, mountain)  1921\n",
       "14             (2, day)  1907\n",
       "15       (place, earth)  1845\n",
       "16         (come, back)  1721\n",
       "17         (long, line)  1708\n",
       "18             (3, day)  1677\n",
       "19         (feel, like)  1615\n",
       "20       (happy, place)  1571\n",
       "21           (time, go)  1537\n",
       "22        (long, queue)  1524\n",
       "23         (wait, line)  1450\n",
       "24        (ride, close)  1431\n",
       "25          (get, ride)  1424\n",
       "26           (two, day)  1419\n",
       "27           (go, ride)  1396\n",
       "28         (good, time)  1358\n",
       "29          (get, fast)  1349"
      ]
     },
     "execution_count": 26,
     "metadata": {},
     "output_type": "execute_result"
    }
   ],
   "source": [
    "bigramFreqTable.head(30).reset_index(drop=True)"
   ]
  },
  {
   "cell_type": "code",
   "execution_count": 27,
   "id": "3d8e7978",
   "metadata": {},
   "outputs": [],
   "source": [
    "#might be more meaningful if we can get adjectives and nouns \n",
    "\n",
    "#function to filter for ADJ/NN bigrams\n",
    "\n",
    "def rightTypes(ngram):\n",
    "    if '-pron-' in ngram or '' in ngram or ' 'in ngram or 't' in ngram:\n",
    "        return False\n",
    "    for word in ngram:\n",
    "        if word in stop_words:\n",
    "            return False\n",
    "    acceptable_types = ('JJ', 'JJR', 'JJS', 'NN', 'NNS', 'NNP', 'NNPS')\n",
    "    second_type = ('NN', 'NNS', 'NNP', 'NNPS')\n",
    "    tags = nltk.pos_tag(ngram)\n",
    "    if tags[0][1] in acceptable_types and tags[1][1] in second_type:\n",
    "        return True\n",
    "    else:\n",
    "        return False"
   ]
  },
  {
   "cell_type": "code",
   "execution_count": 28,
   "id": "e2b43d57",
   "metadata": {},
   "outputs": [
    {
     "data": {
      "text/html": [
       "<div>\n",
       "<style scoped>\n",
       "    .dataframe tbody tr th:only-of-type {\n",
       "        vertical-align: middle;\n",
       "    }\n",
       "\n",
       "    .dataframe tbody tr th {\n",
       "        vertical-align: top;\n",
       "    }\n",
       "\n",
       "    .dataframe thead th {\n",
       "        text-align: right;\n",
       "    }\n",
       "</style>\n",
       "<table border=\"1\" class=\"dataframe\">\n",
       "  <thead>\n",
       "    <tr style=\"text-align: right;\">\n",
       "      <th></th>\n",
       "      <th>bigram</th>\n",
       "      <th>freq</th>\n",
       "    </tr>\n",
       "  </thead>\n",
       "  <tbody>\n",
       "    <tr>\n",
       "      <th>73</th>\n",
       "      <td>(space, mountain)</td>\n",
       "      <td>3819</td>\n",
       "    </tr>\n",
       "    <tr>\n",
       "      <th>1640</th>\n",
       "      <td>(wait, time)</td>\n",
       "      <td>2640</td>\n",
       "    </tr>\n",
       "    <tr>\n",
       "      <th>12</th>\n",
       "      <td>(small, world)</td>\n",
       "      <td>2413</td>\n",
       "    </tr>\n",
       "    <tr>\n",
       "      <th>552</th>\n",
       "      <td>(great, time)</td>\n",
       "      <td>2321</td>\n",
       "    </tr>\n",
       "    <tr>\n",
       "      <th>6</th>\n",
       "      <td>(main, street)</td>\n",
       "      <td>2311</td>\n",
       "    </tr>\n",
       "    <tr>\n",
       "      <th>80</th>\n",
       "      <td>(cast, member)</td>\n",
       "      <td>2155</td>\n",
       "    </tr>\n",
       "    <tr>\n",
       "      <th>13111</th>\n",
       "      <td>(indiana, jones)</td>\n",
       "      <td>2020</td>\n",
       "    </tr>\n",
       "    <tr>\n",
       "      <th>2827</th>\n",
       "      <td>(first, time)</td>\n",
       "      <td>2012</td>\n",
       "    </tr>\n",
       "    <tr>\n",
       "      <th>5786</th>\n",
       "      <td>(thunder, mountain)</td>\n",
       "      <td>1921</td>\n",
       "    </tr>\n",
       "    <tr>\n",
       "      <th>111</th>\n",
       "      <td>(place, earth)</td>\n",
       "      <td>1845</td>\n",
       "    </tr>\n",
       "  </tbody>\n",
       "</table>\n",
       "</div>"
      ],
      "text/plain": [
       "                    bigram  freq\n",
       "73       (space, mountain)  3819\n",
       "1640          (wait, time)  2640\n",
       "12          (small, world)  2413\n",
       "552          (great, time)  2321\n",
       "6           (main, street)  2311\n",
       "80          (cast, member)  2155\n",
       "13111     (indiana, jones)  2020\n",
       "2827         (first, time)  2012\n",
       "5786   (thunder, mountain)  1921\n",
       "111         (place, earth)  1845"
      ]
     },
     "execution_count": 28,
     "metadata": {},
     "output_type": "execute_result"
    }
   ],
   "source": [
    "#takes awhile to run\n",
    "bigram_filter = bigramFreqTable[bigramFreqTable.bigram.map(lambda x: rightTypes(x))]\n",
    "bigram_filter.head(10)"
   ]
  },
  {
   "cell_type": "code",
   "execution_count": 29,
   "id": "6762cdc9",
   "metadata": {},
   "outputs": [],
   "source": [
    "test_string = bigram_filter['bigram'].tolist()\n",
    "test_string[1]\n",
    "#type(test_string)\n",
    "#combine tuple\n",
    "test_string[1][0] +'_' + test_string[1][1] \n",
    "\n",
    "#combine all tuples in df\n",
    "bigram = [ ]\n",
    "for c in range(0, len(test_string)):\n",
    "    bigram.append(test_string[c][0] +'_' + test_string[c][1]) \n",
    "\n",
    "bigram_filter['bigram_combo'] = bigram"
   ]
  },
  {
   "cell_type": "code",
   "execution_count": 30,
   "id": "7f2325dd",
   "metadata": {},
   "outputs": [],
   "source": [
    "top20_bigram = bigram_filter[:20]"
   ]
  },
  {
   "cell_type": "code",
   "execution_count": 31,
   "id": "81c0207f",
   "metadata": {},
   "outputs": [
    {
     "data": {
      "image/png": "[encoded data removed]",
      "text/plain": [
       "<Figure size 864x576 with 1 Axes>"
      ]
     },
     "metadata": {},
     "output_type": "display_data"
    }
   ],
   "source": [
    "# Create Figure\n",
    "sns.set_style(\"whitegrid\")\n",
    "\n",
    "fig, ax = plt.subplots(figsize=(12,8))\n",
    "plt.barh(top20_bigram['bigram_combo'], top20_bigram['freq']/len(Disneyland), color ='cyan', alpha = 0.4, \n",
    "         edgecolor = 'black', linewidth = 1)\n",
    "plt.xlabel(\"% of times two words occured together\")\n",
    "plt.gca().invert_yaxis()\n",
    "plt.title(\"Frequency of Top 20 Bigrams\")\n",
    "#plt.savefig(\"output\\disney_topbigram.jpg\", bbox_inches='tight', dpi = 300)\n",
    "plt.show()"
   ]
  },
  {
   "cell_type": "markdown",
   "id": "ff640519",
   "metadata": {},
   "source": [
    "### trigrams"
   ]
  },
  {
   "cell_type": "code",
   "execution_count": 32,
   "id": "449d9e1f",
   "metadata": {},
   "outputs": [
    {
     "data": {
      "text/html": [
       "<div>\n",
       "<style scoped>\n",
       "    .dataframe tbody tr th:only-of-type {\n",
       "        vertical-align: middle;\n",
       "    }\n",
       "\n",
       "    .dataframe tbody tr th {\n",
       "        vertical-align: top;\n",
       "    }\n",
       "\n",
       "    .dataframe thead th {\n",
       "        text-align: right;\n",
       "    }\n",
       "</style>\n",
       "<table border=\"1\" class=\"dataframe\">\n",
       "  <thead>\n",
       "    <tr style=\"text-align: right;\">\n",
       "      <th></th>\n",
       "      <th>trigram</th>\n",
       "      <th>freq</th>\n",
       "    </tr>\n",
       "  </thead>\n",
       "  <tbody>\n",
       "    <tr>\n",
       "      <th>0</th>\n",
       "      <td>(happy, place, earth)</td>\n",
       "      <td>1272</td>\n",
       "    </tr>\n",
       "    <tr>\n",
       "      <th>1</th>\n",
       "      <td>(get, fast, pass)</td>\n",
       "      <td>1168</td>\n",
       "    </tr>\n",
       "    <tr>\n",
       "      <th>2</th>\n",
       "      <td>(use, fast, pass)</td>\n",
       "      <td>1075</td>\n",
       "    </tr>\n",
       "    <tr>\n",
       "      <th>3</th>\n",
       "      <td>(big, thunder, mountain)</td>\n",
       "      <td>988</td>\n",
       "    </tr>\n",
       "    <tr>\n",
       "      <th>4</th>\n",
       "      <td>(fast, pass, system)</td>\n",
       "      <td>614</td>\n",
       "    </tr>\n",
       "  </tbody>\n",
       "</table>\n",
       "</div>"
      ],
      "text/plain": [
       "                    trigram  freq\n",
       "0     (happy, place, earth)  1272\n",
       "1         (get, fast, pass)  1168\n",
       "2         (use, fast, pass)  1075\n",
       "3  (big, thunder, mountain)   988\n",
       "4      (fast, pass, system)   614"
      ]
     },
     "execution_count": 32,
     "metadata": {},
     "output_type": "execute_result"
    }
   ],
   "source": [
    "trigram_freq = trigramFinder.ngram_fd.items()\n",
    "trigramFreqTable = pd.DataFrame(list(trigram_freq), columns=['trigram','freq']).sort_values(by='freq', ascending=False)\n",
    "trigramFreqTable.head(5).reset_index(drop=True)"
   ]
  },
  {
   "cell_type": "code",
   "execution_count": 33,
   "id": "ee6ce953",
   "metadata": {},
   "outputs": [],
   "source": [
    "#filter NN and ADJ in trigrams\n",
    "def rightTypesTri(ngram):\n",
    "    if '-pron-' in ngram or '' in ngram or ' 'in ngram or '  ' in ngram or 't' in ngram:\n",
    "        return False\n",
    "    for word in ngram:\n",
    "        if word in stop_words:\n",
    "            return False\n",
    "    first_type = ('JJ', 'JJR', 'JJS', 'NN', 'NNS', 'NNP', 'NNPS')\n",
    "    third_type = ('JJ', 'JJR', 'JJS', 'NN', 'NNS', 'NNP', 'NNPS')\n",
    "    tags = nltk.pos_tag(ngram)\n",
    "    if tags[0][1] in first_type and tags[2][1] in third_type:\n",
    "        return True\n",
    "    else:\n",
    "        return False"
   ]
  },
  {
   "cell_type": "code",
   "execution_count": 34,
   "id": "403dbdda",
   "metadata": {},
   "outputs": [
    {
     "data": {
      "text/html": [
       "<div>\n",
       "<style scoped>\n",
       "    .dataframe tbody tr th:only-of-type {\n",
       "        vertical-align: middle;\n",
       "    }\n",
       "\n",
       "    .dataframe tbody tr th {\n",
       "        vertical-align: top;\n",
       "    }\n",
       "\n",
       "    .dataframe thead th {\n",
       "        text-align: right;\n",
       "    }\n",
       "</style>\n",
       "<table border=\"1\" class=\"dataframe\">\n",
       "  <thead>\n",
       "    <tr style=\"text-align: right;\">\n",
       "      <th></th>\n",
       "      <th>trigram</th>\n",
       "      <th>freq</th>\n",
       "    </tr>\n",
       "  </thead>\n",
       "  <tbody>\n",
       "    <tr>\n",
       "      <th>635</th>\n",
       "      <td>(happy, place, earth)</td>\n",
       "      <td>1272</td>\n",
       "    </tr>\n",
       "    <tr>\n",
       "      <th>6261</th>\n",
       "      <td>(use, fast, pass)</td>\n",
       "      <td>1075</td>\n",
       "    </tr>\n",
       "    <tr>\n",
       "      <th>6545</th>\n",
       "      <td>(big, thunder, mountain)</td>\n",
       "      <td>988</td>\n",
       "    </tr>\n",
       "    <tr>\n",
       "      <th>4548</th>\n",
       "      <td>(year, old, daughter)</td>\n",
       "      <td>517</td>\n",
       "    </tr>\n",
       "    <tr>\n",
       "      <th>578</th>\n",
       "      <td>(lion, king, show)</td>\n",
       "      <td>459</td>\n",
       "    </tr>\n",
       "    <tr>\n",
       "      <th>1320</th>\n",
       "      <td>(toy, story, land)</td>\n",
       "      <td>428</td>\n",
       "    </tr>\n",
       "    <tr>\n",
       "      <th>4331</th>\n",
       "      <td>(ride, space, mountain)</td>\n",
       "      <td>401</td>\n",
       "    </tr>\n",
       "    <tr>\n",
       "      <th>3144</th>\n",
       "      <td>(wait, time, ride)</td>\n",
       "      <td>356</td>\n",
       "    </tr>\n",
       "    <tr>\n",
       "      <th>470</th>\n",
       "      <td>(dream, come, true)</td>\n",
       "      <td>351</td>\n",
       "    </tr>\n",
       "    <tr>\n",
       "      <th>13426</th>\n",
       "      <td>(year, old, son)</td>\n",
       "      <td>343</td>\n",
       "    </tr>\n",
       "  </tbody>\n",
       "</table>\n",
       "</div>"
      ],
      "text/plain": [
       "                        trigram  freq\n",
       "635       (happy, place, earth)  1272\n",
       "6261          (use, fast, pass)  1075\n",
       "6545   (big, thunder, mountain)   988\n",
       "4548      (year, old, daughter)   517\n",
       "578          (lion, king, show)   459\n",
       "1320         (toy, story, land)   428\n",
       "4331    (ride, space, mountain)   401\n",
       "3144         (wait, time, ride)   356\n",
       "470         (dream, come, true)   351\n",
       "13426          (year, old, son)   343"
      ]
     },
     "execution_count": 34,
     "metadata": {},
     "output_type": "execute_result"
    }
   ],
   "source": [
    "trigram_filter = trigramFreqTable[trigramFreqTable.trigram.map(lambda x: rightTypesTri(x))]\n",
    "trigram_filter.head(10)"
   ]
  },
  {
   "cell_type": "code",
   "execution_count": 35,
   "id": "0751a56a",
   "metadata": {},
   "outputs": [],
   "source": [
    "test_string2 = trigram_filter['trigram'].tolist()\n",
    "\n",
    "trigram = [ ]\n",
    "for c in range(0, len(test_string2)):\n",
    "    trigram.append(test_string2[c][0] + '_' + test_string2[c][1] + '_' + test_string2[c][2]) \n",
    "\n",
    "trigram_filter['trigram_combo'] = trigram\n",
    "top20_trigram = trigram_filter[:20]"
   ]
  },
  {
   "cell_type": "code",
   "execution_count": 36,
   "id": "04514cbc",
   "metadata": {},
   "outputs": [
    {
     "data": {
      "image/png": "[encoded data removed]",
      "text/plain": [
       "<Figure size 864x576 with 1 Axes>"
      ]
     },
     "metadata": {},
     "output_type": "display_data"
    }
   ],
   "source": [
    "# Create Figure\n",
    "fig, ax = plt.subplots(figsize=(12,8))\n",
    "#plot frequency of trigram that occurs out of all ca reviews\n",
    "plt.barh(top20_trigram['trigram_combo'], top20_trigram['freq']/len(Disneyland), color ='cyan', alpha = 0.4, \n",
    "         edgecolor = 'black', linewidth = 1)\n",
    "plt.xlabel(\"% of times three words occured together\")\n",
    "plt.gca().invert_yaxis()\n",
    "#plt.ylabel(\"Counts\")\n",
    "plt.title(\"Frequency of Top 20 Trigrams\")\n",
    "#plt.savefig(\"output\\disney_hk_toptrigram.jpg\", bbox_inches='tight', dpi = 300)\n",
    "plt.show()"
   ]
  },
  {
   "cell_type": "markdown",
   "id": "22ba4622",
   "metadata": {},
   "source": [
    "- Trigram show a lot of rides! Which rides/attractions they went to, what kind of tickets they purchased, duration of stay/visit"
   ]
  },
  {
   "cell_type": "markdown",
   "id": "128b9738",
   "metadata": {},
   "source": [
    "## Find reviews where ngram occurs"
   ]
  },
  {
   "cell_type": "code",
   "execution_count": 55,
   "id": "f17b5372",
   "metadata": {},
   "outputs": [],
   "source": [
    "from nrclex import NRCLex\n",
    "\n",
    "emotion = []\n",
    "for i in range(len(Disneyland)):\n",
    "    emotions = NRCLex(Disneyland['Review_Text'][i])\n",
    "    emotion.append(emotions.top_emotions[0][0])\n",
    "Disneyland['emotion'] = emotion"
   ]
  },
  {
   "cell_type": "code",
   "execution_count": 56,
   "id": "489f141d",
   "metadata": {},
   "outputs": [
    {
     "data": {
      "text/html": [
       "<div>\n",
       "<style scoped>\n",
       "    .dataframe tbody tr th:only-of-type {\n",
       "        vertical-align: middle;\n",
       "    }\n",
       "\n",
       "    .dataframe tbody tr th {\n",
       "        vertical-align: top;\n",
       "    }\n",
       "\n",
       "    .dataframe thead th {\n",
       "        text-align: right;\n",
       "    }\n",
       "</style>\n",
       "<table border=\"1\" class=\"dataframe\">\n",
       "  <thead>\n",
       "    <tr style=\"text-align: right;\">\n",
       "      <th></th>\n",
       "      <th>Review_ID</th>\n",
       "      <th>Rating</th>\n",
       "      <th>Year_Month</th>\n",
       "      <th>Reviewer_Location</th>\n",
       "      <th>Review_Text</th>\n",
       "      <th>Branch</th>\n",
       "      <th>Year</th>\n",
       "      <th>Month</th>\n",
       "      <th>query_match</th>\n",
       "      <th>emotion</th>\n",
       "    </tr>\n",
       "  </thead>\n",
       "  <tbody>\n",
       "    <tr>\n",
       "      <th>0</th>\n",
       "      <td>670772142</td>\n",
       "      <td>4</td>\n",
       "      <td>2019-4</td>\n",
       "      <td>Australia</td>\n",
       "      <td>If you've ever been to Disneyland anywhere you...</td>\n",
       "      <td>HongKong</td>\n",
       "      <td>2019</td>\n",
       "      <td>4</td>\n",
       "      <td>False</td>\n",
       "      <td>positive</td>\n",
       "    </tr>\n",
       "    <tr>\n",
       "      <th>1</th>\n",
       "      <td>670682799</td>\n",
       "      <td>4</td>\n",
       "      <td>2019-5</td>\n",
       "      <td>Philippines</td>\n",
       "      <td>Its been a while since d last time we visit HK...</td>\n",
       "      <td>HongKong</td>\n",
       "      <td>2019</td>\n",
       "      <td>5</td>\n",
       "      <td>False</td>\n",
       "      <td>positive</td>\n",
       "    </tr>\n",
       "    <tr>\n",
       "      <th>2</th>\n",
       "      <td>670623270</td>\n",
       "      <td>4</td>\n",
       "      <td>2019-4</td>\n",
       "      <td>United Arab Emirates</td>\n",
       "      <td>Thanks God it wasn   t too hot or too humid wh...</td>\n",
       "      <td>HongKong</td>\n",
       "      <td>2019</td>\n",
       "      <td>4</td>\n",
       "      <td>False</td>\n",
       "      <td>positive</td>\n",
       "    </tr>\n",
       "    <tr>\n",
       "      <th>3</th>\n",
       "      <td>670607911</td>\n",
       "      <td>4</td>\n",
       "      <td>2019-4</td>\n",
       "      <td>Australia</td>\n",
       "      <td>HK Disneyland is a great compact park. Unfortu...</td>\n",
       "      <td>HongKong</td>\n",
       "      <td>2019</td>\n",
       "      <td>4</td>\n",
       "      <td>False</td>\n",
       "      <td>positive</td>\n",
       "    </tr>\n",
       "    <tr>\n",
       "      <th>4</th>\n",
       "      <td>670607296</td>\n",
       "      <td>4</td>\n",
       "      <td>2019-4</td>\n",
       "      <td>United Kingdom</td>\n",
       "      <td>the location is not in the city, took around 1...</td>\n",
       "      <td>HongKong</td>\n",
       "      <td>2019</td>\n",
       "      <td>4</td>\n",
       "      <td>False</td>\n",
       "      <td>anger</td>\n",
       "    </tr>\n",
       "  </tbody>\n",
       "</table>\n",
       "</div>"
      ],
      "text/plain": [
       "   Review_ID  Rating Year_Month     Reviewer_Location  \\\n",
       "0  670772142       4     2019-4             Australia   \n",
       "1  670682799       4     2019-5           Philippines   \n",
       "2  670623270       4     2019-4  United Arab Emirates   \n",
       "3  670607911       4     2019-4             Australia   \n",
       "4  670607296       4     2019-4        United Kingdom   \n",
       "\n",
       "                                         Review_Text    Branch  Year Month  \\\n",
       "0  If you've ever been to Disneyland anywhere you...  HongKong  2019     4   \n",
       "1  Its been a while since d last time we visit HK...  HongKong  2019     5   \n",
       "2  Thanks God it wasn   t too hot or too humid wh...  HongKong  2019     4   \n",
       "3  HK Disneyland is a great compact park. Unfortu...  HongKong  2019     4   \n",
       "4  the location is not in the city, took around 1...  HongKong  2019     4   \n",
       "\n",
       "   query_match   emotion  \n",
       "0        False  positive  \n",
       "1        False  positive  \n",
       "2        False  positive  \n",
       "3        False  positive  \n",
       "4        False     anger  "
      ]
     },
     "execution_count": 56,
     "metadata": {},
     "output_type": "execute_result"
    }
   ],
   "source": [
    "specific_words = ['toy story land']\n",
    "query = '|'.join(specific_words)\n",
    "Disneyland['query_match'] = Disneyland['Review_Text'].str.lower().str.contains(query)\n",
    "Disneyland.head()\n"
   ]
  },
  {
   "cell_type": "code",
   "execution_count": 57,
   "id": "a886d83f",
   "metadata": {},
   "outputs": [],
   "source": [
    "#what are people saying about space mountain?\n",
    "query_sample = Disneyland[Disneyland['query_match'] == True]"
   ]
  },
  {
   "cell_type": "code",
   "execution_count": 58,
   "id": "40cc7b40",
   "metadata": {},
   "outputs": [],
   "source": [
    "#do ngram association again\n",
    "\n",
    "query_reviews = query_sample['Review_Text']\n",
    "query_reviews = query_reviews.astype('str')\n",
    "\n",
    "eng_rev1 = query_reviews[query_reviews.apply(get_language)]\n",
    "eng_rev1.drop_duplicates(inplace=True)\n",
    "\n",
    "#apply function to clean and lemmatize comments\n",
    "lemm1 = eng_rev1.map(clean_comments)\n",
    "\n",
    "#lowercase words\n",
    "lemm1 = lemm1.map(lambda x: [word.lower() for word in x])\n",
    "\n",
    "unlist_rev1 = [item for items in lemm1 for item in items]\n",
    "cleaned_rev1 = [w for w in unlist_rev1 if not w in stop_words] \n",
    "\n",
    "#remove spaces\n",
    "cleaned_rev1 = [w for w in cleaned_rev1 if w != ' '] \n",
    "cleaned_rev1 = [w for w in cleaned_rev1 if w != '  '] \n",
    "cleaned_rev1 = [w for w in cleaned_rev1 if w != '   ']\n",
    "\n",
    "bigrams = nltk.collocations.BigramAssocMeasures()\n",
    "trigrams = nltk.collocations.TrigramAssocMeasures()\n",
    "\n",
    "bigramFinder1 = nltk.collocations.BigramCollocationFinder.from_words(cleaned_rev1)\n",
    "trigramFinder1 = nltk.collocations.TrigramCollocationFinder.from_words(cleaned_rev1)\n",
    "\n",
    "bigram_freq1 = bigramFinder1.ngram_fd.items()\n",
    "bigramFreqTable1 = pd.DataFrame(list(bigram_freq1), columns=['bigram','freq']).sort_values(by='freq', ascending=False)\n"
   ]
  },
  {
   "cell_type": "code",
   "execution_count": 59,
   "id": "6ba00610",
   "metadata": {},
   "outputs": [
    {
     "data": {
      "text/html": [
       "<div>\n",
       "<style scoped>\n",
       "    .dataframe tbody tr th:only-of-type {\n",
       "        vertical-align: middle;\n",
       "    }\n",
       "\n",
       "    .dataframe tbody tr th {\n",
       "        vertical-align: top;\n",
       "    }\n",
       "\n",
       "    .dataframe thead th {\n",
       "        text-align: right;\n",
       "    }\n",
       "</style>\n",
       "<table border=\"1\" class=\"dataframe\">\n",
       "  <thead>\n",
       "    <tr style=\"text-align: right;\">\n",
       "      <th></th>\n",
       "      <th>bigram</th>\n",
       "      <th>freq</th>\n",
       "    </tr>\n",
       "  </thead>\n",
       "  <tbody>\n",
       "    <tr>\n",
       "      <th>0</th>\n",
       "      <td>(toy, story)</td>\n",
       "      <td>456</td>\n",
       "    </tr>\n",
       "    <tr>\n",
       "      <th>1</th>\n",
       "      <td>(story, land)</td>\n",
       "      <td>431</td>\n",
       "    </tr>\n",
       "    <tr>\n",
       "      <th>2</th>\n",
       "      <td>(hong, kong)</td>\n",
       "      <td>216</td>\n",
       "    </tr>\n",
       "    <tr>\n",
       "      <th>3</th>\n",
       "      <td>(main, street)</td>\n",
       "      <td>118</td>\n",
       "    </tr>\n",
       "    <tr>\n",
       "      <th>4</th>\n",
       "      <td>(space, mountain)</td>\n",
       "      <td>117</td>\n",
       "    </tr>\n",
       "    <tr>\n",
       "      <th>5</th>\n",
       "      <td>(grizzly, gulch)</td>\n",
       "      <td>109</td>\n",
       "    </tr>\n",
       "    <tr>\n",
       "      <th>6</th>\n",
       "      <td>(mystic, manor)</td>\n",
       "      <td>90</td>\n",
       "    </tr>\n",
       "    <tr>\n",
       "      <th>7</th>\n",
       "      <td>(lion, king)</td>\n",
       "      <td>88</td>\n",
       "    </tr>\n",
       "    <tr>\n",
       "      <th>8</th>\n",
       "      <td>(fast, pass)</td>\n",
       "      <td>78</td>\n",
       "    </tr>\n",
       "    <tr>\n",
       "      <th>9</th>\n",
       "      <td>(kong, disneyland)</td>\n",
       "      <td>73</td>\n",
       "    </tr>\n",
       "  </tbody>\n",
       "</table>\n",
       "</div>"
      ],
      "text/plain": [
       "               bigram  freq\n",
       "0        (toy, story)   456\n",
       "1       (story, land)   431\n",
       "2        (hong, kong)   216\n",
       "3      (main, street)   118\n",
       "4   (space, mountain)   117\n",
       "5    (grizzly, gulch)   109\n",
       "6     (mystic, manor)    90\n",
       "7        (lion, king)    88\n",
       "8        (fast, pass)    78\n",
       "9  (kong, disneyland)    73"
      ]
     },
     "execution_count": 59,
     "metadata": {},
     "output_type": "execute_result"
    }
   ],
   "source": [
    "bigramFreqTable1.head(10).reset_index(drop=True)"
   ]
  },
  {
   "cell_type": "code",
   "execution_count": 60,
   "id": "121b6ed9",
   "metadata": {},
   "outputs": [
    {
     "data": {
      "text/html": [
       "<div>\n",
       "<style scoped>\n",
       "    .dataframe tbody tr th:only-of-type {\n",
       "        vertical-align: middle;\n",
       "    }\n",
       "\n",
       "    .dataframe tbody tr th {\n",
       "        vertical-align: top;\n",
       "    }\n",
       "\n",
       "    .dataframe thead th {\n",
       "        text-align: right;\n",
       "    }\n",
       "</style>\n",
       "<table border=\"1\" class=\"dataframe\">\n",
       "  <thead>\n",
       "    <tr style=\"text-align: right;\">\n",
       "      <th></th>\n",
       "      <th>bigram</th>\n",
       "      <th>freq</th>\n",
       "    </tr>\n",
       "  </thead>\n",
       "  <tbody>\n",
       "    <tr>\n",
       "      <th>110</th>\n",
       "      <td>(toy, story)</td>\n",
       "      <td>456</td>\n",
       "    </tr>\n",
       "    <tr>\n",
       "      <th>111</th>\n",
       "      <td>(story, land)</td>\n",
       "      <td>431</td>\n",
       "    </tr>\n",
       "    <tr>\n",
       "      <th>164</th>\n",
       "      <td>(hong, kong)</td>\n",
       "      <td>216</td>\n",
       "    </tr>\n",
       "    <tr>\n",
       "      <th>186</th>\n",
       "      <td>(main, street)</td>\n",
       "      <td>118</td>\n",
       "    </tr>\n",
       "    <tr>\n",
       "      <th>15</th>\n",
       "      <td>(space, mountain)</td>\n",
       "      <td>117</td>\n",
       "    </tr>\n",
       "    <tr>\n",
       "      <th>827</th>\n",
       "      <td>(grizzly, gulch)</td>\n",
       "      <td>109</td>\n",
       "    </tr>\n",
       "    <tr>\n",
       "      <th>217</th>\n",
       "      <td>(mystic, manor)</td>\n",
       "      <td>90</td>\n",
       "    </tr>\n",
       "    <tr>\n",
       "      <th>22</th>\n",
       "      <td>(lion, king)</td>\n",
       "      <td>88</td>\n",
       "    </tr>\n",
       "    <tr>\n",
       "      <th>1419</th>\n",
       "      <td>(kong, disneyland)</td>\n",
       "      <td>73</td>\n",
       "    </tr>\n",
       "    <tr>\n",
       "      <th>358</th>\n",
       "      <td>(small, world)</td>\n",
       "      <td>72</td>\n",
       "    </tr>\n",
       "  </tbody>\n",
       "</table>\n",
       "</div>"
      ],
      "text/plain": [
       "                  bigram  freq\n",
       "110         (toy, story)   456\n",
       "111        (story, land)   431\n",
       "164         (hong, kong)   216\n",
       "186       (main, street)   118\n",
       "15     (space, mountain)   117\n",
       "827     (grizzly, gulch)   109\n",
       "217      (mystic, manor)    90\n",
       "22          (lion, king)    88\n",
       "1419  (kong, disneyland)    73\n",
       "358       (small, world)    72"
      ]
     },
     "execution_count": 60,
     "metadata": {},
     "output_type": "execute_result"
    }
   ],
   "source": [
    "bigram_filter1 = bigramFreqTable1[bigramFreqTable1.bigram.map(lambda x: rightTypes(x))]\n",
    "bigram_filter1.head(10)"
   ]
  },
  {
   "cell_type": "code",
   "execution_count": 61,
   "id": "cd757e88",
   "metadata": {},
   "outputs": [
    {
     "data": {
      "text/html": [
       "<div>\n",
       "<style scoped>\n",
       "    .dataframe tbody tr th:only-of-type {\n",
       "        vertical-align: middle;\n",
       "    }\n",
       "\n",
       "    .dataframe tbody tr th {\n",
       "        vertical-align: top;\n",
       "    }\n",
       "\n",
       "    .dataframe thead th {\n",
       "        text-align: right;\n",
       "    }\n",
       "</style>\n",
       "<table border=\"1\" class=\"dataframe\">\n",
       "  <thead>\n",
       "    <tr style=\"text-align: right;\">\n",
       "      <th></th>\n",
       "      <th>trigram</th>\n",
       "      <th>freq</th>\n",
       "    </tr>\n",
       "  </thead>\n",
       "  <tbody>\n",
       "    <tr>\n",
       "      <th>0</th>\n",
       "      <td>(toy, story, land)</td>\n",
       "      <td>427</td>\n",
       "    </tr>\n",
       "    <tr>\n",
       "      <th>1</th>\n",
       "      <td>(hong, kong, disneyland)</td>\n",
       "      <td>72</td>\n",
       "    </tr>\n",
       "    <tr>\n",
       "      <th>2</th>\n",
       "      <td>(ride, toy, story)</td>\n",
       "      <td>45</td>\n",
       "    </tr>\n",
       "    <tr>\n",
       "      <th>3</th>\n",
       "      <td>(lion, king, show)</td>\n",
       "      <td>43</td>\n",
       "    </tr>\n",
       "    <tr>\n",
       "      <th>4</th>\n",
       "      <td>(mountain, runaway, mine)</td>\n",
       "      <td>26</td>\n",
       "    </tr>\n",
       "    <tr>\n",
       "      <th>5</th>\n",
       "      <td>(jungle, river, cruise)</td>\n",
       "      <td>26</td>\n",
       "    </tr>\n",
       "    <tr>\n",
       "      <th>6</th>\n",
       "      <td>(big, grizzly, mountain)</td>\n",
       "      <td>26</td>\n",
       "    </tr>\n",
       "    <tr>\n",
       "      <th>7</th>\n",
       "      <td>(main, street, usa)</td>\n",
       "      <td>25</td>\n",
       "    </tr>\n",
       "    <tr>\n",
       "      <th>8</th>\n",
       "      <td>(grizzly, mountain, runaway)</td>\n",
       "      <td>25</td>\n",
       "    </tr>\n",
       "    <tr>\n",
       "      <th>9</th>\n",
       "      <td>(festival, lion, king)</td>\n",
       "      <td>24</td>\n",
       "    </tr>\n",
       "  </tbody>\n",
       "</table>\n",
       "</div>"
      ],
      "text/plain": [
       "                        trigram  freq\n",
       "0            (toy, story, land)   427\n",
       "1      (hong, kong, disneyland)    72\n",
       "2            (ride, toy, story)    45\n",
       "3            (lion, king, show)    43\n",
       "4     (mountain, runaway, mine)    26\n",
       "5       (jungle, river, cruise)    26\n",
       "6      (big, grizzly, mountain)    26\n",
       "7           (main, street, usa)    25\n",
       "8  (grizzly, mountain, runaway)    25\n",
       "9        (festival, lion, king)    24"
      ]
     },
     "execution_count": 61,
     "metadata": {},
     "output_type": "execute_result"
    }
   ],
   "source": [
    "trigram_freq1 = trigramFinder1.ngram_fd.items()\n",
    "trigramFreqTable1 = pd.DataFrame(list(trigram_freq1), columns=['trigram','freq']).sort_values(by='freq', ascending=False)\n",
    "trigramFreqTable1.head(10).reset_index(drop=True)"
   ]
  },
  {
   "cell_type": "code",
   "execution_count": 62,
   "id": "3acb700f",
   "metadata": {},
   "outputs": [],
   "source": [
    "bigram_filter1 = bigramFreqTable1[bigramFreqTable1.bigram.map(lambda x: rightTypes(x))]\n",
    "\n",
    "test_string4 = bigram_filter1['bigram'].tolist()\n",
    "\n",
    "bigram1 = [ ]\n",
    "for c in range(0, len(test_string4)):\n",
    "    bigram1.append(test_string4[c][0] + '_' + test_string4[c][1]) \n",
    "\n",
    "bigram_filter1['bigram_combo'] = bigram1\n",
    "top20_bigram1 = bigram_filter1[:20]"
   ]
  },
  {
   "cell_type": "code",
   "execution_count": 68,
   "id": "b6f3e8a3",
   "metadata": {},
   "outputs": [
    {
     "data": {
      "image/png": "[encoded data removed]",
      "text/plain": [
       "<Figure size 432x288 with 1 Axes>"
      ]
     },
     "metadata": {},
     "output_type": "display_data"
    }
   ],
   "source": [
    "plt.barh(top20_bigram1['bigram_combo'], top20_bigram1['freq']/len(query_sample), color ='green', alpha = 0.4, \n",
    "         edgecolor = 'black', linewidth = 1)\n",
    "plt.xlabel(\"% of bigram occurence\")\n",
    "plt.gca().invert_yaxis()\n",
    "plt.title(\"Top 20 Bigrams associated to toy story land\")\n",
    "plt.show()"
   ]
  },
  {
   "cell_type": "code",
   "execution_count": 64,
   "id": "aa110cae",
   "metadata": {},
   "outputs": [],
   "source": [
    "trigram_filter1 = trigramFreqTable1[trigramFreqTable1.trigram.map(lambda x: rightTypes(x))]\n",
    "\n",
    "test_string3 = trigram_filter1['trigram'].tolist()\n",
    "\n",
    "trigram1 = [ ]\n",
    "for c in range(0, len(test_string3)):\n",
    "    trigram1.append(test_string3[c][0] + '_' + test_string3[c][1] + '_' + test_string3[c][2]) \n",
    "\n",
    "trigram_filter1['trigram_combo'] = trigram1\n",
    "top20_trigram1 = trigram_filter1[:20]"
   ]
  },
  {
   "cell_type": "code",
   "execution_count": 69,
   "id": "43fad35c",
   "metadata": {},
   "outputs": [
    {
     "data": {
      "image/png": "[encoded data removed]",
      "text/plain": [
       "<Figure size 432x288 with 1 Axes>"
      ]
     },
     "metadata": {},
     "output_type": "display_data"
    }
   ],
   "source": [
    "plt.barh(top20_trigram1['trigram_combo'], top20_trigram1['freq']/len(query_sample), color ='green', alpha = 0.4, \n",
    "         edgecolor = 'black', linewidth = 1)\n",
    "plt.xlabel(\"% of trigram occurence\")\n",
    "plt.gca().invert_yaxis()\n",
    "plt.title(\"Top 20 Trigrams associated to toy story land\")\n",
    "\n",
    "plt.show()"
   ]
  },
  {
   "cell_type": "code",
   "execution_count": 67,
   "id": "771bf279",
   "metadata": {},
   "outputs": [
    {
     "data": {
      "image/png": "[encoded data removed]",
      "text/plain": [
       "<Figure size 432x288 with 1 Axes>"
      ]
     },
     "metadata": {},
     "output_type": "display_data"
    }
   ],
   "source": [
    "graph = sns.countplot(y=\"emotion\", data=query_sample, palette=\"flare\")\n",
    "graph.set(xlabel='Frequency', ylabel='Emotion', title = 'Emotion from reviews about Toy Story Land ')\n",
    "figure = graph.get_figure() "
   ]
  },
  {
   "cell_type": "code",
   "execution_count": null,
   "id": "3fcad3f3",
   "metadata": {},
   "outputs": [],
   "source": []
  }
 ],
 "metadata": {
  "hide_input": false,
  "kernelspec": {
   "display_name": "Python 3 (ipykernel)",
   "language": "python",
   "name": "python3"
  },
  "language_info": {
   "codemirror_mode": {
    "name": "ipython",
    "version": 3
   },
   "file_extension": ".py",
   "mimetype": "text/x-python",
   "name": "python",
   "nbconvert_exporter": "python",
   "pygments_lexer": "ipython3",
   "version": "3.10.2"
  }
 },
 "nbformat": 4,
 "nbformat_minor": 5
}
