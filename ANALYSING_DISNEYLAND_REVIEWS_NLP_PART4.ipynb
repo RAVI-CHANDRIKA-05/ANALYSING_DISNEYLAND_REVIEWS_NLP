{
 "cells": [
  {
   "cell_type": "markdown",
   "id": "6dbcee8d",
   "metadata": {},
   "source": [
    "# TOPIC MODELLING "
   ]
  },
  {
   "cell_type": "markdown",
   "id": "9d922e8c",
   "metadata": {},
   "source": [
    "### Project Goal: \n",
    "To compare customer sentiment regarding attractions at three Disneyland locations (Anaheim, Paris, and Hong Kong) using sentiment analysis, emotion detection, and n-gram associations. To identify keywords using topic modeling that can help Disney determine visitor pain points and improve park experience.<br>\n",
    "### Dataset:\n",
    "Dataset is from [Kaggle](https://www.kaggle.com/arushchillar/disneyland-reviews) containing 42,000 reviews from TripAdvisor about three Disneyland branch locations: California, Paris, Hong Kong. here are 19,406 reviews about Anaheim, 13,630 about Paris, and 9,620 about Hong Kong. Data variables include Review_ID, Rating, Year_Month, Reviewer_Location, Review_Text, and Disneyland_Branch.<br>"
   ]
  },
  {
   "cell_type": "code",
   "execution_count": 1,
   "id": "9eeda6c1",
   "metadata": {},
   "outputs": [],
   "source": [
    "import numpy as np\n",
    "import pandas as pd\n",
    "import re\n",
    "from nltk.corpus import stopwords\n"
   ]
  },
  {
   "cell_type": "markdown",
   "id": "24521499",
   "metadata": {},
   "source": [
    "import seaborn as sns\n",
    "import matplotlib.pyplot as plt\n",
    "from textblob import TextBlob\n",
    "import nltk\n",
    "from nltk import FreqDist\n",
    "from nltk.tokenize import RegexpTokenizer\n",
    "from nltk.corpus import state_union\n",
    "from nltk.tokenize import word_tokenize\n",
    "import spacy\n",
    "import string\n",
    "pd.options.mode.chained_assignment = None  # default='warn'\n",
    "#nltk.download('averaged_perceptron_tagger')"
   ]
  },
  {
   "cell_type": "code",
   "execution_count": 2,
   "id": "d42e363e",
   "metadata": {},
   "outputs": [],
   "source": [
    "# Gensim\n",
    "import gensim\n",
    "import gensim.corpora as corpora\n",
    "from gensim.utils import simple_preprocess\n",
    "from gensim.models import CoherenceModel\n",
    "\n",
    "# spacy for lemmatization\n",
    "import spacy\n",
    "\n",
    "# Plotting tools\n",
    "import pyLDAvis\n",
    "import pyLDAvis.gensim_models  # don't skip this\n",
    "import matplotlib.pyplot as plt\n",
    "%matplotlib inline\n",
    "\n",
    "# Enable logging for gensim - optional\n",
    "import logging\n",
    "logging.basicConfig(format='%(asctime)s : %(levelname)s : %(message)s', level=logging.ERROR)\n",
    "\n",
    "import warnings\n",
    "warnings.filterwarnings(\"ignore\",category=DeprecationWarning)"
   ]
  },
  {
   "cell_type": "markdown",
   "id": "5c438bff",
   "metadata": {},
   "source": [
    "## Load Data"
   ]
  },
  {
   "cell_type": "code",
   "execution_count": 3,
   "id": "a0a63e76",
   "metadata": {},
   "outputs": [
    {
     "data": {
      "text/html": [
       "<div>\n",
       "<style scoped>\n",
       "    .dataframe tbody tr th:only-of-type {\n",
       "        vertical-align: middle;\n",
       "    }\n",
       "\n",
       "    .dataframe tbody tr th {\n",
       "        vertical-align: top;\n",
       "    }\n",
       "\n",
       "    .dataframe thead th {\n",
       "        text-align: right;\n",
       "    }\n",
       "</style>\n",
       "<table border=\"1\" class=\"dataframe\">\n",
       "  <thead>\n",
       "    <tr style=\"text-align: right;\">\n",
       "      <th></th>\n",
       "      <th>Review_ID</th>\n",
       "      <th>Rating</th>\n",
       "      <th>Year_Month</th>\n",
       "      <th>Reviewer_Location</th>\n",
       "      <th>Review_Text</th>\n",
       "      <th>Branch</th>\n",
       "    </tr>\n",
       "  </thead>\n",
       "  <tbody>\n",
       "    <tr>\n",
       "      <th>0</th>\n",
       "      <td>670772142</td>\n",
       "      <td>4</td>\n",
       "      <td>2019-4</td>\n",
       "      <td>Australia</td>\n",
       "      <td>If you've ever been to Disneyland anywhere you...</td>\n",
       "      <td>Disneyland_HongKong</td>\n",
       "    </tr>\n",
       "    <tr>\n",
       "      <th>1</th>\n",
       "      <td>670682799</td>\n",
       "      <td>4</td>\n",
       "      <td>2019-5</td>\n",
       "      <td>Philippines</td>\n",
       "      <td>Its been a while since d last time we visit HK...</td>\n",
       "      <td>Disneyland_HongKong</td>\n",
       "    </tr>\n",
       "    <tr>\n",
       "      <th>2</th>\n",
       "      <td>670623270</td>\n",
       "      <td>4</td>\n",
       "      <td>2019-4</td>\n",
       "      <td>United Arab Emirates</td>\n",
       "      <td>Thanks God it wasn   t too hot or too humid wh...</td>\n",
       "      <td>Disneyland_HongKong</td>\n",
       "    </tr>\n",
       "    <tr>\n",
       "      <th>3</th>\n",
       "      <td>670607911</td>\n",
       "      <td>4</td>\n",
       "      <td>2019-4</td>\n",
       "      <td>Australia</td>\n",
       "      <td>HK Disneyland is a great compact park. Unfortu...</td>\n",
       "      <td>Disneyland_HongKong</td>\n",
       "    </tr>\n",
       "    <tr>\n",
       "      <th>4</th>\n",
       "      <td>670607296</td>\n",
       "      <td>4</td>\n",
       "      <td>2019-4</td>\n",
       "      <td>United Kingdom</td>\n",
       "      <td>the location is not in the city, took around 1...</td>\n",
       "      <td>Disneyland_HongKong</td>\n",
       "    </tr>\n",
       "  </tbody>\n",
       "</table>\n",
       "</div>"
      ],
      "text/plain": [
       "   Review_ID  Rating Year_Month     Reviewer_Location  \\\n",
       "0  670772142       4     2019-4             Australia   \n",
       "1  670682799       4     2019-5           Philippines   \n",
       "2  670623270       4     2019-4  United Arab Emirates   \n",
       "3  670607911       4     2019-4             Australia   \n",
       "4  670607296       4     2019-4        United Kingdom   \n",
       "\n",
       "                                         Review_Text               Branch  \n",
       "0  If you've ever been to Disneyland anywhere you...  Disneyland_HongKong  \n",
       "1  Its been a while since d last time we visit HK...  Disneyland_HongKong  \n",
       "2  Thanks God it wasn   t too hot or too humid wh...  Disneyland_HongKong  \n",
       "3  HK Disneyland is a great compact park. Unfortu...  Disneyland_HongKong  \n",
       "4  the location is not in the city, took around 1...  Disneyland_HongKong  "
      ]
     },
     "execution_count": 3,
     "metadata": {},
     "output_type": "execute_result"
    }
   ],
   "source": [
    "Disneyland = pd.read_csv ('DisneylandReviews.csv', encoding='unicode_escape')\n",
    "Disneyland.head()"
   ]
  },
  {
   "cell_type": "code",
   "execution_count": 4,
   "id": "244d7ba9",
   "metadata": {},
   "outputs": [
    {
     "name": "stdout",
     "output_type": "stream",
     "text": [
      "<class 'pandas.core.frame.DataFrame'>\n",
      "RangeIndex: 42656 entries, 0 to 42655\n",
      "Data columns (total 6 columns):\n",
      " #   Column             Non-Null Count  Dtype \n",
      "---  ------             --------------  ----- \n",
      " 0   Review_ID          42656 non-null  int64 \n",
      " 1   Rating             42656 non-null  int64 \n",
      " 2   Year_Month         42656 non-null  object\n",
      " 3   Reviewer_Location  42656 non-null  object\n",
      " 4   Review_Text        42656 non-null  object\n",
      " 5   Branch             42656 non-null  object\n",
      "dtypes: int64(2), object(4)\n",
      "memory usage: 2.0+ MB\n"
     ]
    }
   ],
   "source": [
    "Disneyland.info()"
   ]
  },
  {
   "cell_type": "code",
   "execution_count": 5,
   "id": "12865b67",
   "metadata": {},
   "outputs": [],
   "source": [
    "#To select rows whose column value equals 'missing' in 'Year_Month':\n",
    "missing = Disneyland.loc[Disneyland['Year_Month'] == 'missing']\n",
    "#keep the missing rows seperate\n",
    "Disneyland = Disneyland[Disneyland.Year_Month != 'missing']"
   ]
  },
  {
   "cell_type": "code",
   "execution_count": 6,
   "id": "bbfa2f16",
   "metadata": {},
   "outputs": [],
   "source": [
    "#get year from the year_month\n",
    "Disneyland['Year'] = pd.to_datetime(Disneyland['Year_Month']).dt.strftime('%Y')"
   ]
  },
  {
   "cell_type": "code",
   "execution_count": 7,
   "id": "36eb4c65",
   "metadata": {},
   "outputs": [],
   "source": [
    "# Using apply(str) method\n",
    "Disneyland['Month']=Disneyland['Year_Month'].apply(str)\n",
    "Disneyland['Month']= Disneyland['Month'].apply(lambda x: x[5:])"
   ]
  },
  {
   "cell_type": "code",
   "execution_count": 8,
   "id": "e7c08ed7",
   "metadata": {},
   "outputs": [
    {
     "name": "stderr",
     "output_type": "stream",
     "text": [
      "C:\\Users\\chand\\AppData\\Local\\Temp\\ipykernel_10012\\470078404.py:2: FutureWarning: The frame.append method is deprecated and will be removed from pandas in a future version. Use pandas.concat instead.\n",
      "  Disneyland = Disneyland.append(missing)\n"
     ]
    }
   ],
   "source": [
    "#join back the missing in year_month\n",
    "Disneyland = Disneyland.append(missing)\n",
    "#Disneyland.tail()"
   ]
  },
  {
   "cell_type": "markdown",
   "id": "0dcdf89d",
   "metadata": {},
   "source": [
    "#### Rename the fields in Branch column\n",
    "There are 3 fields in Branch column we will rename them for our convenience as following"
   ]
  },
  {
   "cell_type": "code",
   "execution_count": 9,
   "id": "6b7479b6",
   "metadata": {},
   "outputs": [],
   "source": [
    "Disneyland['Branch'] = Disneyland['Branch'].replace({'Disneyland_HongKong': 'HongKong', \n",
    "                                                     'Disneyland_California':'California', \n",
    "                                                     'Disneyland_Paris':'Paris'})"
   ]
  },
  {
   "cell_type": "markdown",
   "id": "a485b93a",
   "metadata": {},
   "source": [
    "## Topic Modeling\n",
    "Topic modeling is a technique to extract the underlying topics from large volumes of text.\n",
    "\n",
    "We can use topic modeling to extract keywords used in reviews to help Disney identify specific issues that concern park visitors. We can build a dictionary and train our topic model using an unsupervised learning algorithm, LDA (Latent Dirichlet Allocation) to uncover hidden patterns in the text. This will also yield the probabilities of topics appearing in our model. Before building this model, we need to remove punctuations, stopwords, and lemmatized the text. Then, identify best value for k (number of topics) by graphing it against coherence score. Pick ideal k value where the coherence score is at maximum. I used the gensim package for this task."
   ]
  },
  {
   "cell_type": "code",
   "execution_count": 10,
   "id": "f3720497",
   "metadata": {},
   "outputs": [],
   "source": [
    "def sent_to_words(sentences):\n",
    "    for sentence in sentences:\n",
    "        yield(gensim.utils.simple_preprocess(str(sentence), deacc=True))\n",
    "\n",
    "data = Disneyland.Review_Text.values.tolist()\n",
    "# Remove Emails\n",
    "data = [re.sub('\\S*@\\S*\\s?', '', sent) for sent in data]\n",
    "\n",
    "# Remove new line characters\n",
    "data = [re.sub('\\s+', ' ', sent) for sent in data]\n",
    "\n",
    "# Remove distracting single quotes\n",
    "data = [re.sub(\"\\'\", \"\", sent) for sent in data]\n",
    "data_words = list(sent_to_words(data))\n",
    "#data_words[:1]"
   ]
  },
  {
   "cell_type": "code",
   "execution_count": 11,
   "id": "3fcad3f3",
   "metadata": {},
   "outputs": [
    {
     "name": "stdout",
     "output_type": "stream",
     "text": [
      "['if', 'youve', 'ever', 'been', 'to', 'disneyland', 'anywhere', 'youll', 'find', 'disneyland_hong_kong', 'very', 'similar', 'in', 'the', 'layout', 'when', 'you', 'walk', 'into', 'main_street', 'it', 'has', 'very', 'familiar', 'feel', 'one', 'of', 'the', 'rides', 'its', 'small', 'world', 'is', 'absolutely', 'fabulous', 'and', 'worth', 'doing', 'the', 'day', 'we', 'visited', 'was', 'fairly', 'hot', 'and', 'relatively', 'busy', 'but', 'the', 'queues', 'moved', 'fairly', 'well']\n"
     ]
    }
   ],
   "source": [
    "# Build the bigram and trigram models\n",
    "bigram = gensim.models.Phrases(data_words, min_count=5, threshold=100) # higher threshold fewer phrases.\n",
    "trigram = gensim.models.Phrases(bigram[data_words], threshold=100)  \n",
    "\n",
    "# Faster way to get a sentence clubbed as a trigram/bigram\n",
    "bigram_mod = gensim.models.phrases.Phraser(bigram)\n",
    "trigram_mod = gensim.models.phrases.Phraser(trigram)\n",
    "\n",
    "# See trigram example\n",
    "print(trigram_mod[bigram_mod[data_words[0]]])"
   ]
  },
  {
   "cell_type": "code",
   "execution_count": 12,
   "id": "19295607",
   "metadata": {},
   "outputs": [],
   "source": [
    "# Define functions for stopwords, bigrams, trigrams and lemmatization\n",
    "def remove_stopwords(texts):\n",
    "    return [[word for word in simple_preprocess(str(doc)) if word not in stop_words] for doc in texts]\n",
    "\n",
    "def make_bigrams(texts):\n",
    "    return [bigram_mod[doc] for doc in texts]\n",
    "\n",
    "def make_trigrams(texts):\n",
    "    return [trigram_mod[bigram_mod[doc]] for doc in texts]\n",
    "\n",
    "def lemmatization(texts, allowed_postags=['NOUN', 'ADJ', 'VERB', 'ADV']):\n",
    "    \"\"\"https://spacy.io/api/annotation\"\"\"\n",
    "    texts_out = []\n",
    "    for sent in texts:\n",
    "        doc = nlp(\" \".join(sent)) \n",
    "        texts_out.append([token.lemma_ for token in doc if token.pos_ in allowed_postags])\n",
    "    return texts_out"
   ]
  },
  {
   "cell_type": "code",
   "execution_count": 13,
   "id": "cb315490",
   "metadata": {},
   "outputs": [
    {
     "name": "stdout",
     "output_type": "stream",
     "text": [
      "[['ve', 'ever', 'disneyland', 'anywhere', 'find', 'similar', 'layout', 'walk', 'main_street', 'familiar', 'feel', 'ride', 'small', 'world', 'absolutely', 'fabulous', 'worth', 'day', 'visit', 'fairly', 'hot', 'relatively', 'busy', 'queue', 'move', 'fairly', 'well']]\n"
     ]
    }
   ],
   "source": [
    "stop_words = set(stopwords.words('english')) \n",
    "\n",
    "# Remove Stop Words\n",
    "data_words_nostops = remove_stopwords(data_words)\n",
    "\n",
    "# Form Bigrams\n",
    "data_words_bigrams = make_bigrams(data_words_nostops)\n",
    "\n",
    "# Initialize spacy 'en' model, keeping only tagger component (for efficiency)\n",
    "# python3 -m spacy download en\n",
    "nlp = spacy.load('en_core_web_sm', disable=['parser', 'ner'])\n",
    "\n",
    "# Do lemmatization keeping only noun, adj, vb, adv\n",
    "data_lemmatized = lemmatization(data_words_bigrams, allowed_postags=['NOUN', 'ADJ', 'VERB', 'ADV'])\n",
    "\n",
    "print(data_lemmatized[:1])"
   ]
  },
  {
   "cell_type": "code",
   "execution_count": 14,
   "id": "c9f2957a",
   "metadata": {},
   "outputs": [],
   "source": [
    "# Create Dictionary\n",
    "id2word = corpora.Dictionary(data_lemmatized)\n",
    "\n",
    "# Create Corpus\n",
    "texts = data_lemmatized\n",
    "\n",
    "# Term Document Frequency\n",
    "corpus = [id2word.doc2bow(text) for text in texts]"
   ]
  },
  {
   "cell_type": "markdown",
   "id": "8156a837",
   "metadata": {},
   "source": [
    "#### Compute c_v coherence for various number of topics\n",
    "use below code"
   ]
  },
  {
   "cell_type": "markdown",
   "id": "25d748e4",
   "metadata": {},
   "source": [
    "\n",
    "def compute_coherence_values(dictionary, corpus, texts, start, stop):\n",
    "\n",
    "    coherence_values = []\n",
    "    model_list = []\n",
    "    for num_topics in range(start, stop):\n",
    "        model = gensim.models.ldamodel.LdaModel(corpus=corpus, \n",
    "                                              num_topics=num_topics,\n",
    "                                              id2word=id2word,\n",
    "                                              random_state=90,\n",
    "                                              alpha='auto',\n",
    "                                              eta='auto',\n",
    "                                              per_word_topics=True)\n",
    "        model_list.append(model)\n",
    "        coherencemodel = CoherenceModel(model=model, texts=texts,\n",
    "                             dictionary=dictionary, coherence='c_v')\n",
    "        coherence_values.append(coherencemodel.get_coherence())\n",
    "    return model_list, coherence_values\n",
    "\n",
    "start=4\n",
    "stop=11\n",
    "model_list, coherence_values = compute_coherence_values(dictionary=id2word, \n",
    "                                    corpus=corpus,\n",
    "                                    texts=data_lemmatized,\n",
    "                                    start=start, stop=stop)\n",
    "x = range(start, stop)\n",
    "plt.figure(figsize=(10,7))\n",
    "plt.style.use('ggplot')\n",
    "plt.plot(x, coherence_values, color = \"blue\",marker=\".\")\n",
    "plt.xlabel(\"Num Topics\", size=14)\n",
    "plt.ylabel(\"Coherence score\", size=14)\n",
    "plt.title('Number of Topics Based on The Coherence Score',size=18)\n",
    "plt.show()"
   ]
  },
  {
   "cell_type": "code",
   "execution_count": 15,
   "id": "b79c4966",
   "metadata": {},
   "outputs": [],
   "source": [
    "#plt.savefig(\"k_topic.jpg\", bbox_inches='tight', dpi = 300)\n"
   ]
  },
  {
   "cell_type": "markdown",
   "id": "d79d2980",
   "metadata": {},
   "source": [
    "The ideal number of topics is 4. This gave an a coherence score of 0.38 and perplexity score of -6.94. Applying this k value, we obtain the top words in each topic:"
   ]
  },
  {
   "cell_type": "code",
   "execution_count": 20,
   "id": "814feaad",
   "metadata": {},
   "outputs": [],
   "source": [
    "# Build LDA model\n",
    "lda_model = gensim.models.ldamodel.LdaModel(corpus=corpus,\n",
    "                                           id2word=id2word,\n",
    "                                           num_topics=4, \n",
    "                                           random_state=100,\n",
    "                                           update_every=1,\n",
    "                                           chunksize=100,\n",
    "                                           passes=10,\n",
    "                                           alpha='auto',\n",
    "                                           per_word_topics=True)"
   ]
  },
  {
   "cell_type": "code",
   "execution_count": 21,
   "id": "1e8e8bc4",
   "metadata": {},
   "outputs": [
    {
     "name": "stdout",
     "output_type": "stream",
     "text": [
      "[(0, '0.042*\"get\" + 0.030*\"hotel\" + 0.025*\"take\" + 0.023*\"pass\" + 0.019*\"fast\" + 0.019*\"ticket\" + 0.016*\"stay\" + 0.016*\"eat\" + 0.015*\"use\" + 0.012*\"restaurant\"'), (1, '0.049*\"park\" + 0.046*\"ride\" + 0.041*\"go\" + 0.032*\"day\" + 0.029*\"time\" + 0.019*\"queue\" + 0.018*\"get\" + 0.014*\"food\" + 0.013*\"good\" + 0.013*\"wait\"'), (2, '0.027*\"disney\" + 0.023*\"see\" + 0.022*\"great\" + 0.022*\"kid\" + 0.019*\"visit\" + 0.018*\"show\" + 0.017*\"child\" + 0.017*\"year\" + 0.016*\"place\" + 0.015*\"character\"'), (3, '0.033*\"staff\" + 0.032*\"people\" + 0.019*\"french\" + 0.018*\"tell\" + 0.016*\"say\" + 0.013*\"son\" + 0.012*\"ask\" + 0.011*\"rude\" + 0.011*\"push\" + 0.009*\"guest\"')]\n"
     ]
    }
   ],
   "source": [
    "# Print the Keyword in the 10 topics\n",
    "print(lda_model.print_topics())\n",
    "doc_lda = lda_model[corpus]"
   ]
  },
  {
   "cell_type": "code",
   "execution_count": 22,
   "id": "79b3c22e",
   "metadata": {},
   "outputs": [
    {
     "name": "stdout",
     "output_type": "stream",
     "text": [
      "\n",
      "Perplexity:  -6.9332330206516275\n",
      "\n",
      "Coherence Score:  0.3860537723382688\n"
     ]
    }
   ],
   "source": [
    "# Compute Perplexity\n",
    "print('\\nPerplexity: ', lda_model.log_perplexity(corpus))  # a measure of how good the model is. lower the better.\n",
    "\n",
    "# Compute Coherence Score\n",
    "coherence_model_lda = CoherenceModel(model=lda_model, texts=data_lemmatized, dictionary=id2word, coherence='c_v')\n",
    "coherence_lda = coherence_model_lda.get_coherence()\n",
    "print('\\nCoherence Score: ', coherence_lda)"
   ]
  },
  {
   "cell_type": "code",
   "execution_count": 23,
   "id": "181a68d4",
   "metadata": {},
   "outputs": [
    {
     "name": "stderr",
     "output_type": "stream",
     "text": [
      "C:\\Users\\chand\\AppData\\Local\\Programs\\Python\\Python310\\lib\\site-packages\\pyLDAvis\\_prepare.py:247: FutureWarning: In a future version of pandas all arguments of DataFrame.drop except for the argument 'labels' will be keyword-only.\n",
      "  by='saliency', ascending=False).head(R).drop('saliency', 1)\n"
     ]
    },
    {
     "data": {
      "text/html": [
       "\n",
       "<link rel=\"stylesheet\" type=\"text/css\" href=\"https://cdn.jsdelivr.net/gh/bmabey/pyLDAvis@3.3.1/pyLDAvis/js/ldavis.v1.0.0.css\">\n",
       "\n",
       "\n",
       "<div id=\"ldavis_el1001217694741197603529972222\"></div>\n",
       "<script type=\"text/javascript\">\n",
       "\n",
       "var ldavis_el1001217694741197603529972222_data = {\"mdsDat\": {\"x\": [-0.15855753166431508, -0.17020363335712213, -0.05906391760865921, 0.3878250826300961], \"y\": [-0.004348437117261061, -0.25913892574529496, 0.32890241728404734, -0.06541505442149131], \"topics\": [1, 2, 3, 4], \"cluster\": [1, 1, 1, 1], \"Freq\": [44.30216837347042, 32.143188946413815, 16.283002437826184, 7.271640242289578]}, \"tinfo\": {\"Term\": [\"park\", \"ride\", \"get\", \"go\", \"day\", \"people\", \"hotel\", \"see\", \"staff\", \"great\", \"kid\", \"take\", \"visit\", \"pass\", \"disney\", \"queue\", \"child\", \"year\", \"show\", \"place\", \"fast\", \"ticket\", \"time\", \"character\", \"say\", \"love\", \"parade\", \"eat\", \"wait\", \"old\", \"ride\", \"wait\", \"long\", \"line\", \"mountain\", \"big\", \"close\", \"expect\", \"crowd\", \"space\", \"bad\", \"busy\", \"quite\", \"plan\", \"pirate\", \"fantastic\", \"thunder\", \"less\", \"week\", \"break\", \"short\", \"plenty\", \"weather\", \"do\", \"half\", \"overall\", \"extra\", \"pretty\", \"day\", \"easy\", \"park\", \"queue\", \"minute\", \"go\", \"euro\", \"small\", \"however\", \"price\", \"attraction\", \"hour\", \"time\", \"food\", \"open\", \"expensive\", \"spend\", \"find\", \"many\", \"even\", \"good\", \"get\", \"well\", \"think\", \"lot\", \"also\", \"back\", \"disney\", \"much\", \"child\", \"year\", \"place\", \"character\", \"love\", \"parade\", \"experience\", \"enjoy\", \"fun\", \"family\", \"feel\", \"studio\", \"always\", \"amazing\", \"firework\", \"magical\", \"daughter\", \"ve\", \"age\", \"whole\", \"meet\", \"clean\", \"friendly\", \"miss\", \"happy\", \"new\", \"old\", \"castle\", \"ever\", \"wonderful\", \"great\", \"adult\", \"visit\", \"show\", \"see\", \"kid\", \"magic\", \"world\", \"disneyland\", \"trip\", \"young\", \"come\", \"disney\", \"make\", \"really\", \"never\", \"night\", \"good\", \"time\", \"take\", \"hotel\", \"pass\", \"ticket\", \"fast\", \"buy\", \"meal\", \"drink\", \"book\", \"pm\", \"room\", \"breakfast\", \"save\", \"check\", \"lunch\", \"free\", \"front\", \"village\", \"photo\", \"water\", \"bus\", \"sit\", \"head\", \"allow\", \"entrance\", \"dinner\", \"snack\", \"tip\", \"station\", \"bag\", \"table\", \"eat\", \"use\", \"arrive\", \"restaurant\", \"cost\", \"early\", \"take\", \"get\", \"stay\", \"pay\", \"cheap\", \"train\", \"also\", \"french\", \"son\", \"rude\", \"push\", \"guest\", \"smoke\", \"toilet\", \"girl\", \"parent\", \"member\", \"care\", \"english\", \"facility\", \"appear\", \"lose\", \"dirty\", \"write\", \"smoking\", \"party\", \"floor\", \"customer\", \"employee\", \"cast_member\", \"job\", \"european\", \"man\", \"terrible\", \"attitude\", \"sister\", \"agree\", \"tell\", \"ask\", \"staff\", \"people\", \"turn\", \"sign\", \"service\", \"say\", \"point\", \"let\", \"happen\", \"stand\", \"give\", \"problem\", \"seem\", \"know\", \"look\", \"put\", \"area\"], \"Freq\": [50565.0, 47112.0, 33958.0, 42989.0, 32863.0, 11036.0, 11343.0, 17820.0, 8998.0, 16675.0, 16689.0, 15422.0, 14544.0, 8478.0, 27490.0, 19596.0, 12831.0, 12592.0, 13325.0, 12004.0, 7336.0, 7305.0, 36176.0, 11306.0, 8430.0, 9861.0, 9854.0, 6076.0, 13252.0, 9372.0, 47112.35454237553, 13251.960396812718, 11023.09615207779, 10103.306545258838, 7554.330558575088, 7064.7995918878105, 6096.767694966542, 6233.113491470141, 5266.290261205983, 5190.739539668662, 5098.2860724710645, 4694.191538599424, 4068.6321933871113, 3730.991686986958, 3238.355648031905, 3261.96897197772, 2998.7463004256324, 2976.187700183362, 2856.784922341822, 2798.474858396909, 2751.3754636588474, 2640.3954624331604, 2578.0426086937096, 2565.425720649395, 2408.1713254677675, 2326.0236955966884, 2330.127728950153, 2270.5015242427744, 32855.845359603205, 2170.9869368328605, 50414.103946346855, 19532.24763317806, 9075.954184821254, 41527.07541723498, 6803.332966194606, 8269.458966170787, 3969.9511856236045, 6006.69867543674, 7227.781332187146, 9141.930417212396, 30181.138491158435, 14205.466846687936, 5022.328808087324, 7452.769197127727, 5554.903273119911, 7927.676536433241, 6759.5097444064595, 7878.315181145239, 13342.362562238939, 18274.378329767897, 9420.885534355146, 6388.29561432325, 7136.2267393252405, 7228.170717304994, 6651.25829862713, 7264.52937395762, 6538.451952515777, 12831.371775124573, 12591.814651952129, 12004.432735858061, 11306.283729016313, 9860.951003596567, 9854.36633637832, 8772.10736170974, 8258.39404682222, 7865.014643565693, 6980.860026212273, 5973.032481018461, 5363.877108561404, 4350.195911089972, 4152.137198983972, 3923.529739054137, 3904.5088271222585, 3895.419897746963, 3830.639317836003, 3720.6405881091673, 3761.3837784422512, 3395.9465049289406, 3382.543757491067, 3315.7869475017396, 3247.041112943598, 2985.7340476068216, 3019.372491974877, 9370.641923908359, 2725.883479398669, 2792.8697257234294, 2670.2414507381127, 16488.540625115715, 5047.358013182173, 14373.941936340785, 13159.13619021483, 17447.5132730336, 16308.936409391574, 5067.168033957242, 5038.059876598231, 7015.827714398569, 6865.691630751125, 4241.987718431515, 7306.6907442599695, 20225.892892529755, 8998.821582850589, 9870.12361585532, 4777.337899851586, 4823.551253545947, 7576.162769283608, 5994.892386641222, 5266.46608265132, 11343.238752980213, 8478.352648806955, 7304.7996544795815, 7335.515162769479, 4269.059761653722, 3985.5635239369803, 3707.87461655847, 3684.2522073291307, 3535.439367411975, 3588.135564976763, 3492.033637143833, 3077.1437477590207, 2742.48425009181, 2617.7005707627463, 2348.9831409202056, 2349.8619831109304, 2259.613105730199, 2173.102592150994, 2104.9493174350505, 2079.829881025737, 2090.641374182869, 1995.400946428469, 1988.8959026268828, 1934.910608055609, 1913.3617198570862, 1742.8829762773055, 1699.0456201056463, 1691.819564851594, 1584.741481382106, 1552.823761819547, 6026.783381821438, 5732.773269620484, 3044.5405768326377, 4326.285578785532, 3017.492136994131, 3935.082562239026, 9532.40132317223, 15684.270732662611, 6147.624620978197, 2741.0103457280948, 2194.2160006432896, 2515.733680723787, 2554.9491012362337, 3193.1489775021123, 2191.9165746161148, 1878.0061671665608, 1778.242996761235, 1518.6419044598788, 1443.3700260151238, 1378.5524404053754, 1403.436752069946, 1370.7417996159415, 818.4212119904051, 831.6846100306094, 810.1095962438827, 779.124248210898, 731.588029995816, 720.4260826539668, 673.1240804010213, 711.41925072324, 630.7915791843842, 675.9011119440695, 622.4426093557242, 538.062202002695, 528.7558724730906, 521.4377970829863, 506.2614788951113, 519.9992542213531, 506.344479274479, 484.06951648266977, 484.2271859120907, 476.3721113663129, 470.9533834887988, 2985.2387378624353, 1996.2483042198426, 5590.713425149691, 5394.657298126741, 1226.930382640084, 821.4752504546043, 1494.050323633757, 2660.8460317948275, 1024.4855732591486, 1203.5969498831148, 793.8188356389744, 1087.134118794695, 1238.4972404094613, 916.2174063930714, 1076.2469097491128, 1028.5228650393447, 1044.2120489078368, 823.9816115804874, 848.6283434598176], \"Total\": [50565.0, 47112.0, 33958.0, 42989.0, 32863.0, 11036.0, 11343.0, 17820.0, 8998.0, 16675.0, 16689.0, 15422.0, 14544.0, 8478.0, 27490.0, 19596.0, 12831.0, 12592.0, 13325.0, 12004.0, 7336.0, 7305.0, 36176.0, 11306.0, 8430.0, 9861.0, 9854.0, 6076.0, 13252.0, 9372.0, 47112.848465030074, 13252.455303893446, 11023.590241352145, 10103.809564967356, 7554.825290338116, 7065.296349492349, 6097.2588807440725, 6233.654565102054, 5266.793922510932, 5191.236391010679, 5098.79402484932, 4694.687189425321, 4069.1293866615706, 3731.4952305648294, 3238.8533576909927, 3262.47304131703, 2999.2394817206823, 2976.6883480829897, 2857.287866589458, 2798.970707097061, 2751.873100403722, 2640.8966796872523, 2578.5395682112967, 2565.929923442849, 2408.6726423072428, 2326.519508919742, 2330.632154576695, 2270.998703214961, 32863.12378286238, 2171.481779043286, 50565.71018817064, 19596.417085715457, 9203.43578755734, 42989.06226120469, 6949.905890682874, 8534.886335982113, 4015.921773603668, 6269.093481012044, 7737.832612249689, 9962.270986251695, 36176.34055541983, 16089.040197793907, 5246.631779859426, 8059.986694951182, 5923.261745790919, 8936.616449610949, 7496.099688551583, 9652.792319375376, 20918.836019961764, 33958.99202303419, 13404.648004178662, 7461.385843863279, 9568.2717806542, 11462.887706971487, 10135.03188143042, 27490.735460492167, 11318.660766463569, 12831.865508621942, 12592.305437086425, 12004.918471176245, 11306.774734051383, 9861.432704034365, 9854.849694461618, 8772.599515344438, 8258.883390685598, 7865.552056093249, 6981.353698037682, 5973.526275919228, 5364.395131658653, 4350.685219154517, 4152.612156387857, 3924.0079353350047, 3904.9855527389855, 3895.911859054883, 3831.1344940589534, 3721.12701398686, 3761.8766285014876, 3396.4293798328613, 3383.034875924799, 3316.2833742654648, 3247.5287771840826, 2986.2223254290793, 3019.867805902327, 9372.234677679904, 2726.364888905556, 2793.364427501341, 2670.728627215662, 16675.63295960551, 5051.564084063231, 14544.084008691694, 13325.644692384301, 17820.884652173718, 16689.54421835811, 5103.67383452242, 5087.795840182788, 7162.621072993433, 7238.451337958726, 4295.965235510801, 8081.337907605366, 27490.735460492167, 11583.885812436883, 13533.416767210234, 5382.795800093384, 5606.88316516542, 20918.836019961764, 36176.34055541983, 15422.522248219298, 11343.76510089954, 8478.873033207321, 7305.314155496766, 7336.03360542964, 4269.579335604429, 3986.083140632729, 3708.3910289770665, 3684.7659254329847, 3535.952952716839, 3588.6636883565225, 3492.5561151227125, 3077.672003842804, 2743.0077023868957, 2618.2189444086343, 2349.5054931473605, 2350.395646747056, 2260.1596752324726, 2173.630694448966, 2105.476191281829, 2080.353181787076, 2091.1694653172576, 1995.9286442534637, 1989.4241883632833, 1935.4330371120664, 1913.8916202942028, 1743.3988238394713, 1699.559430863545, 1692.3339118261565, 1585.2605578338885, 1553.3503327803487, 6076.362036659571, 5872.359416382702, 3097.447537081181, 4909.207059111014, 3347.3509302425296, 4808.407765623769, 15422.522248219298, 33958.99202303419, 10321.74027327531, 4411.628571061957, 2527.216779894087, 4450.823143481095, 11462.887706971487, 3193.6811559657463, 2192.4631032648263, 1878.5231316781785, 1778.7645417572642, 1519.1737788181747, 1443.8808580371172, 1379.0757612317448, 1403.9827017772466, 1371.2841377479724, 818.9358294270261, 832.2078962567534, 810.6605375531876, 779.6726385880436, 732.1201187014615, 720.9526715933425, 673.6365419935435, 711.96854732089, 631.2973313932342, 676.4615535454411, 622.9781481025982, 538.5738863759115, 529.2757680970976, 521.9647910803171, 506.78229664103924, 520.5386938958087, 506.87462017188886, 484.5906635553686, 484.74919114622656, 476.9152259263574, 471.5283489764561, 3176.5346641222845, 2181.220319407242, 8998.37077962638, 11036.198747920193, 1685.6948959827364, 1002.0466776338624, 2817.4599148510997, 8430.273850749782, 1690.9836771592481, 2561.2317691818716, 1142.5775076717462, 2519.258144537681, 4556.937918669633, 2116.1504196705796, 4656.424509331505, 4732.678202834995, 5446.022814198113, 2083.3850276700696, 3619.877478797544], \"Category\": [\"Default\", \"Default\", \"Default\", \"Default\", \"Default\", \"Default\", \"Default\", \"Default\", \"Default\", \"Default\", \"Default\", \"Default\", \"Default\", \"Default\", \"Default\", \"Default\", \"Default\", \"Default\", \"Default\", \"Default\", \"Default\", \"Default\", \"Default\", \"Default\", \"Default\", \"Default\", \"Default\", \"Default\", \"Default\", \"Default\", \"Topic1\", \"Topic1\", \"Topic1\", \"Topic1\", \"Topic1\", \"Topic1\", \"Topic1\", \"Topic1\", \"Topic1\", \"Topic1\", \"Topic1\", \"Topic1\", \"Topic1\", \"Topic1\", \"Topic1\", \"Topic1\", \"Topic1\", \"Topic1\", \"Topic1\", \"Topic1\", \"Topic1\", \"Topic1\", \"Topic1\", \"Topic1\", \"Topic1\", \"Topic1\", \"Topic1\", \"Topic1\", \"Topic1\", \"Topic1\", \"Topic1\", \"Topic1\", \"Topic1\", \"Topic1\", \"Topic1\", \"Topic1\", \"Topic1\", \"Topic1\", \"Topic1\", \"Topic1\", \"Topic1\", \"Topic1\", \"Topic1\", \"Topic1\", \"Topic1\", \"Topic1\", \"Topic1\", \"Topic1\", \"Topic1\", \"Topic1\", \"Topic1\", \"Topic1\", \"Topic1\", \"Topic1\", \"Topic1\", \"Topic1\", \"Topic1\", \"Topic2\", \"Topic2\", \"Topic2\", \"Topic2\", \"Topic2\", \"Topic2\", \"Topic2\", \"Topic2\", \"Topic2\", \"Topic2\", \"Topic2\", \"Topic2\", \"Topic2\", \"Topic2\", \"Topic2\", \"Topic2\", \"Topic2\", \"Topic2\", \"Topic2\", \"Topic2\", \"Topic2\", \"Topic2\", \"Topic2\", \"Topic2\", \"Topic2\", \"Topic2\", \"Topic2\", \"Topic2\", \"Topic2\", \"Topic2\", \"Topic2\", \"Topic2\", \"Topic2\", \"Topic2\", \"Topic2\", \"Topic2\", \"Topic2\", \"Topic2\", \"Topic2\", \"Topic2\", \"Topic2\", \"Topic2\", \"Topic2\", \"Topic2\", \"Topic2\", \"Topic2\", \"Topic2\", \"Topic2\", \"Topic2\", \"Topic2\", \"Topic3\", \"Topic3\", \"Topic3\", \"Topic3\", \"Topic3\", \"Topic3\", \"Topic3\", \"Topic3\", \"Topic3\", \"Topic3\", \"Topic3\", \"Topic3\", \"Topic3\", \"Topic3\", \"Topic3\", \"Topic3\", \"Topic3\", \"Topic3\", \"Topic3\", \"Topic3\", \"Topic3\", \"Topic3\", \"Topic3\", \"Topic3\", \"Topic3\", \"Topic3\", \"Topic3\", \"Topic3\", \"Topic3\", \"Topic3\", \"Topic3\", \"Topic3\", \"Topic3\", \"Topic3\", \"Topic3\", \"Topic3\", \"Topic3\", \"Topic3\", \"Topic3\", \"Topic3\", \"Topic3\", \"Topic3\", \"Topic3\", \"Topic4\", \"Topic4\", \"Topic4\", \"Topic4\", \"Topic4\", \"Topic4\", \"Topic4\", \"Topic4\", \"Topic4\", \"Topic4\", \"Topic4\", \"Topic4\", \"Topic4\", \"Topic4\", \"Topic4\", \"Topic4\", \"Topic4\", \"Topic4\", \"Topic4\", \"Topic4\", \"Topic4\", \"Topic4\", \"Topic4\", \"Topic4\", \"Topic4\", \"Topic4\", \"Topic4\", \"Topic4\", \"Topic4\", \"Topic4\", \"Topic4\", \"Topic4\", \"Topic4\", \"Topic4\", \"Topic4\", \"Topic4\", \"Topic4\", \"Topic4\", \"Topic4\", \"Topic4\", \"Topic4\", \"Topic4\", \"Topic4\", \"Topic4\", \"Topic4\", \"Topic4\", \"Topic4\", \"Topic4\", \"Topic4\"], \"logprob\": [30.0, 29.0, 28.0, 27.0, 26.0, 25.0, 24.0, 23.0, 22.0, 21.0, 20.0, 19.0, 18.0, 17.0, 16.0, 15.0, 14.0, 13.0, 12.0, 11.0, 10.0, 9.0, 8.0, 7.0, 6.0, 5.0, 4.0, 3.0, 2.0, 1.0, -3.0784, -4.3468, -4.531, -4.6181, -4.9089, -4.9759, -5.1232, -5.1011, -5.2697, -5.2841, -5.3021, -5.3847, -5.5277, -5.6143, -5.7559, -5.7487, -5.8328, -5.8403, -5.8813, -5.9019, -5.9189, -5.9601, -5.984, -5.9889, -6.0521, -6.0868, -6.0851, -6.111, -3.4389, -6.1558, -3.0107, -3.9589, -4.7254, -3.2046, -5.0136, -4.8184, -5.5522, -5.1381, -4.953, -4.7181, -3.5238, -4.2774, -5.3171, -4.9224, -5.2163, -4.8606, -5.02, -4.8669, -4.34, -4.0255, -4.6881, -5.0765, -4.9658, -4.953, -5.0362, -4.948, -5.0533, -4.0583, -4.0771, -4.1249, -4.1848, -4.3216, -4.3222, -4.4386, -4.4989, -4.5477, -4.667, -4.8229, -4.9305, -5.1399, -5.1865, -5.2432, -5.248, -5.2503, -5.2671, -5.2963, -5.2854, -5.3876, -5.3915, -5.4115, -5.4324, -5.5163, -5.5051, -4.3726, -5.6074, -5.5831, -5.628, -3.8075, -4.9913, -3.9447, -4.033, -3.751, -3.8184, -4.9874, -4.9931, -4.662, -4.6836, -5.1651, -4.6214, -3.6032, -4.4131, -4.3206, -5.0463, -5.0366, -4.5851, -4.8192, -4.9488, -3.5014, -3.7926, -3.9415, -3.9373, -4.4787, -4.5474, -4.6196, -4.626, -4.6672, -4.6524, -4.6796, -4.8061, -4.9212, -4.9678, -5.0761, -5.0757, -5.1149, -5.1539, -5.1858, -5.1978, -5.1926, -5.2392, -5.2425, -5.27, -5.2812, -5.3745, -5.4, -5.4043, -5.4696, -5.49, -4.1339, -4.1839, -4.8167, -4.4654, -4.8256, -4.5601, -3.6754, -3.1774, -4.114, -4.9217, -5.1442, -5.0075, -4.992, -3.9629, -4.3392, -4.4937, -4.5483, -4.7061, -4.7569, -4.8029, -4.785, -4.8086, -5.3243, -5.3082, -5.3345, -5.3735, -5.4365, -5.4518, -5.5198, -5.4644, -5.5847, -5.5156, -5.598, -5.7437, -5.7612, -5.7751, -5.8046, -5.7779, -5.8045, -5.8495, -5.8491, -5.8655, -5.8769, -4.0303, -4.4327, -3.4028, -3.4385, -4.9194, -5.3206, -4.7224, -4.1453, -5.0997, -4.9386, -5.3548, -5.0404, -4.91, -5.2114, -5.0505, -5.0958, -5.0807, -5.3175, -5.2881], \"loglift\": [30.0, 29.0, 28.0, 27.0, 26.0, 25.0, 24.0, 23.0, 22.0, 21.0, 20.0, 19.0, 18.0, 17.0, 16.0, 15.0, 14.0, 13.0, 12.0, 11.0, 10.0, 9.0, 8.0, 7.0, 6.0, 5.0, 4.0, 3.0, 2.0, 1.0, 0.8141, 0.8141, 0.8141, 0.8141, 0.8141, 0.8141, 0.8141, 0.814, 0.814, 0.814, 0.814, 0.814, 0.814, 0.814, 0.814, 0.814, 0.814, 0.814, 0.814, 0.814, 0.814, 0.8139, 0.8139, 0.8139, 0.8139, 0.8139, 0.8139, 0.8139, 0.8139, 0.8139, 0.8111, 0.8109, 0.8002, 0.7795, 0.7928, 0.7825, 0.8026, 0.7714, 0.7459, 0.7282, 0.6329, 0.6896, 0.7704, 0.7358, 0.7499, 0.6943, 0.7107, 0.611, 0.3644, 0.1945, 0.4615, 0.6589, 0.5209, 0.353, 0.3929, -0.5167, 0.2654, 1.1349, 1.1349, 1.1349, 1.1349, 1.1349, 1.1349, 1.1349, 1.1349, 1.1349, 1.1349, 1.1349, 1.1349, 1.1349, 1.1349, 1.1348, 1.1348, 1.1348, 1.1348, 1.1348, 1.1348, 1.1348, 1.1348, 1.1348, 1.1348, 1.1348, 1.1348, 1.1348, 1.1348, 1.1348, 1.1348, 1.1237, 1.1341, 1.1232, 1.1224, 1.1138, 1.1119, 1.1278, 1.1251, 1.1143, 1.0821, 1.1223, 1.0342, 0.8281, 0.8824, 0.8193, 1.0156, 0.9845, 0.1193, -0.6625, 0.0605, 1.815, 1.815, 1.815, 1.815, 1.8149, 1.8149, 1.8149, 1.8149, 1.8149, 1.8149, 1.8149, 1.8149, 1.8149, 1.8149, 1.8148, 1.8148, 1.8148, 1.8148, 1.8148, 1.8148, 1.8148, 1.8148, 1.8148, 1.8148, 1.8148, 1.8148, 1.8147, 1.8147, 1.8147, 1.8147, 1.8069, 1.791, 1.7978, 1.6886, 1.7113, 1.6146, 1.3339, 1.0426, 1.2969, 1.3391, 1.6738, 1.2445, 0.314, 2.621, 2.6209, 2.6209, 2.6209, 2.6208, 2.6208, 2.6208, 2.6208, 2.6208, 2.6206, 2.6206, 2.6205, 2.6205, 2.6205, 2.6205, 2.6204, 2.6204, 2.6204, 2.6204, 2.6203, 2.6202, 2.6202, 2.6202, 2.6202, 2.6202, 2.6201, 2.6201, 2.6201, 2.62, 2.62, 2.5591, 2.5326, 2.1453, 1.9054, 2.3035, 2.4225, 1.9868, 1.468, 2.1201, 1.866, 2.257, 1.7808, 1.3184, 1.7841, 1.1564, 1.0948, 0.9696, 1.6936, 1.1706]}, \"token.table\": {\"Topic\": [1, 2, 2, 4, 3, 1, 2, 3, 2, 2, 4, 1, 2, 3, 4, 1, 3, 3, 4, 4, 1, 2, 1, 2, 3, 1, 3, 1, 3, 1, 3, 3, 1, 3, 4, 4, 2, 2, 1, 3, 3, 2, 2, 1, 2, 3, 1, 3, 1, 4, 2, 1, 2, 3, 4, 1, 2, 1, 2, 1, 3, 1, 3, 1, 2, 3, 4, 4, 2, 3, 1, 2, 3, 4, 1, 2, 2, 1, 1, 2, 3, 2, 1, 4, 2, 1, 3, 2, 1, 3, 2, 4, 1, 2, 3, 3, 4, 2, 3, 2, 1, 3, 4, 1, 2, 3, 4, 1, 2, 1, 2, 1, 2, 4, 1, 1, 2, 4, 2, 3, 3, 1, 3, 1, 2, 4, 1, 2, 1, 2, 3, 4, 1, 1, 2, 3, 4, 1, 1, 1, 2, 3, 4, 4, 1, 2, 2, 3, 1, 2, 2, 1, 2, 3, 4, 1, 2, 3, 2, 4, 1, 3, 2, 1, 1, 2, 1, 2, 2, 2, 3, 1, 2, 1, 3, 1, 2, 4, 1, 2, 4, 3, 1, 3, 1, 4, 3, 1, 2, 1, 1, 3, 1, 3, 4, 1, 1, 3, 1, 4, 4, 1, 2, 3, 4, 1, 3, 1, 1, 2, 1, 2, 3, 1, 3, 4, 3, 1, 2, 4, 1, 2, 1, 4, 1, 3, 4, 1, 2, 3, 1, 4, 4, 3, 1, 2, 4, 4, 3, 4, 1, 1, 2, 2, 4, 1, 3, 4, 3, 1, 2, 3, 2, 3, 1, 2, 3, 3, 4, 4, 1, 2, 1, 3, 1, 2, 3, 4, 1, 3, 1, 2, 2, 3, 4, 1, 3, 2, 3, 1, 2, 1, 3, 1, 1, 1, 2, 2, 2, 1, 2, 4, 2, 1, 2], \"Freq\": [0.0007918339614099472, 0.9990965008090009, 0.9999658667961661, 0.9988794969006572, 0.9997867783222077, 0.6305566437333311, 0.1465599282612059, 0.22289322423058394, 0.9998425031644441, 0.9998525852247205, 0.9998359303365757, 0.6339993586640276, 0.016575146631739285, 0.1149210166467257, 0.23453832483911086, 0.017110862852561342, 0.9830674978499865, 0.08481490767070916, 0.9150840849228945, 0.9984544767481611, 0.9341117031347281, 0.06590992924719305, 0.6562386855621123, 0.2738027894203671, 0.06985671167914231, 0.9998442720287484, 0.9998356372190043, 0.9999580556175297, 0.9997921372894549, 0.9996531914054692, 0.9998407713135075, 0.9998302298906896, 0.9998536240227317, 0.9998643108468327, 0.9997501871134742, 0.9981516165519129, 0.9998661628503797, 0.9999314805442219, 0.13176550688063876, 0.8681487150033677, 0.9996326286703392, 0.9999325500550671, 0.9999896909354831, 0.9999575414544247, 0.9041819663453703, 0.0957762203300009, 0.09858542079305982, 0.901309741008065, 0.9998492588617264, 0.9989344333425203, 0.9997659446394396, 0.9997832286757203, 0.0002130047054032762, 0.9995341322963388, 0.9990550661167227, 0.26427084900805103, 0.7357387738522836, 0.02038359959463597, 0.979529690109356, 0.9996375881374027, 0.9998945556242557, 0.18155698155244754, 0.8183582158177332, 0.999778133508678, 0.008064035635858417, 0.9918763832105851, 0.9994789708622235, 0.9991851860025389, 0.999893037515629, 0.9997762582823777, 0.9788621755468923, 0.00014388684044493492, 0.020863591864515564, 0.9989651222817327, 0.8161369000125529, 0.1837810181038676, 0.999869538146275, 0.9998949949672029, 0.9246913527374181, 0.0635236780627342, 0.011786619953046387, 0.9999316604680984, 0.9997287626125583, 0.9991372807576502, 0.9999493367543058, 0.9998550052947445, 0.9999954191281764, 0.9999118986181831, 0.8871366523003392, 0.11279436749731861, 0.9999979777474625, 0.99842988376787, 0.882899155286327, 0.005656024155653344, 0.11138016798825047, 0.9997848512596226, 0.9997867176050201, 0.9999145506479743, 0.999831668022529, 0.9999298134333977, 0.5381196234447964, 0.4618511641735901, 0.9993000613355117, 0.17555648426159698, 0.0816337651816426, 0.4709302690317339, 0.27167365939482135, 0.9659899010515491, 0.034008650645058994, 0.6377983931452218, 0.3621616419178684, 0.01121396713713851, 0.988808043445331, 0.9998856096513792, 0.9997207415007635, 0.2765676707954104, 0.02888206688686248, 0.694920033580873, 0.9999255496058729, 0.99953473073492, 0.9999325531785316, 0.9176622491614914, 0.08231054958569492, 0.9885650726800735, 0.011454406383698585, 0.9984563457598572, 0.022768746409623866, 0.9771986452488306, 0.7594008816925483, 0.019650607122261264, 0.003592046463209048, 0.21742445944953592, 0.9997687537281379, 0.4696958762089194, 0.0039043713733077257, 0.05622294777563125, 0.4700863133462502, 0.9999198752745536, 0.9999464565228549, 0.35677412054435037, 0.44803337834699686, 0.0036724047405491548, 0.19169952745666588, 0.9986785934349378, 0.7457982134692351, 0.2541733821688873, 0.999956121585235, 0.999916376585273, 0.007053742297653848, 0.9928142283947791, 1.000003699696406, 0.03789747301623722, 0.7768550334239608, 0.18525735100875873, 0.9982744841878406, 0.9018023079821376, 0.09818439329509662, 0.9999791422733055, 0.9998735790488061, 0.9988572615907149, 0.9861534550249562, 0.013799194445589405, 0.999837175520107, 0.9998907598380637, 0.5776301750620227, 0.4223114464356789, 0.1123951237365356, 0.8874570348585629, 0.999712634473393, 0.860371057840239, 0.13964977991063582, 0.00010669813917288186, 0.999868262189076, 0.9571855260127584, 0.04269405771144123, 0.9997767012407375, 0.9999137790541751, 0.9997927944033255, 0.9969997417695494, 0.0029862133734121863, 0.9993176943419444, 0.9998970342869976, 0.37854501418237063, 0.6213125053136994, 0.5111361374370922, 0.4888458538332055, 0.9997098428677067, 0.999736524752204, 0.9999234920938073, 0.9998672836130748, 0.9996604639272149, 0.9997304962114649, 0.3571885454356863, 0.03666504936591482, 0.6055646863015609, 1.000000571019718, 0.9581927623497913, 0.041792326241991896, 0.5670674394624573, 0.43286147878967574, 0.9995701838330391, 0.11711709394056397, 0.42478945957950454, 0.06287843977956509, 0.39551018609436356, 0.9967128130905923, 0.003265903135254859, 0.9999682028637392, 0.2706633559734145, 0.7293058486097737, 0.07129460945234196, 0.047461840006844794, 0.8812013728309467, 0.9999819907932185, 0.9998150597508828, 0.9997215197037732, 0.9997816518972896, 0.1571716439415732, 0.5272663828832399, 0.31564810907813307, 0.020930498529123414, 0.9790759740915423, 0.7688302457874399, 0.23107858784002383, 0.0489802886893222, 0.4205916093974406, 0.5302648645061403, 0.9996827250487699, 0.9874944367622573, 0.012457183410786133, 0.17963235048594228, 0.8193231097164368, 0.9980809463053321, 0.9999189614614845, 0.9688471145935281, 0.03104903680823376, 0.9993899371736844, 0.9995290152857481, 0.9997712377489202, 0.9997887748878708, 0.9999544634470724, 0.9378278790309061, 0.06212793150015724, 0.37862409578786677, 0.6213346990167194, 0.43663647664890864, 0.13178482749767062, 0.43147622737942154, 0.9998026915233317, 0.1143218070556585, 0.29006736468189964, 0.5956359913374479, 0.9999263418057479, 0.9997744663435185, 0.04046030798056056, 0.341448688823128, 0.6180571404979218, 0.060128416716892855, 0.9397032664917548, 0.9987811082635497, 0.8561412227802024, 0.14380706512885993, 0.9999201525179493, 0.9999569963056921, 0.8342745434343931, 0.16571604280471777, 0.9996708377163012, 0.9999450637638087, 0.4347510421379247, 0.5652886935498804, 0.05139220844785089, 0.9485454387175919, 0.10084861762655596, 0.17144264996514513, 0.7278897283987303, 0.023670213306804407, 0.9762685819274077, 0.999964894456417, 0.9999293522337283, 0.011688601351477772, 0.9883056225067147, 0.9999656438084109, 0.9997738320272627, 0.9997907465846371, 0.9998992518069936, 0.7028159185577398, 0.29713573968957413, 0.9997669704277791, 0.9997271803626032, 0.009630889591324401, 0.9902126890018843, 0.9986396206341774, 0.9999757441488415, 0.012569934121820068, 0.9874381582363098], \"Term\": [\"adult\", \"adult\", \"age\", \"agree\", \"allow\", \"also\", \"also\", \"also\", \"always\", \"amazing\", \"appear\", \"area\", \"area\", \"area\", \"area\", \"arrive\", \"arrive\", \"ask\", \"ask\", \"attitude\", \"attraction\", \"attraction\", \"back\", \"back\", \"back\", \"bad\", \"bag\", \"big\", \"book\", \"break\", \"breakfast\", \"bus\", \"busy\", \"buy\", \"care\", \"cast_member\", \"castle\", \"character\", \"cheap\", \"cheap\", \"check\", \"child\", \"clean\", \"close\", \"come\", \"come\", \"cost\", \"cost\", \"crowd\", \"customer\", \"daughter\", \"day\", \"day\", \"dinner\", \"dirty\", \"disney\", \"disney\", \"disneyland\", \"disneyland\", \"do\", \"drink\", \"early\", \"early\", \"easy\", \"eat\", \"eat\", \"employee\", \"english\", \"enjoy\", \"entrance\", \"euro\", \"euro\", \"euro\", \"european\", \"even\", \"even\", \"ever\", \"expect\", \"expensive\", \"expensive\", \"expensive\", \"experience\", \"extra\", \"facility\", \"family\", \"fantastic\", \"fast\", \"feel\", \"find\", \"find\", \"firework\", \"floor\", \"food\", \"food\", \"food\", \"free\", \"french\", \"friendly\", \"front\", \"fun\", \"get\", \"get\", \"girl\", \"give\", \"give\", \"give\", \"give\", \"go\", \"go\", \"good\", \"good\", \"great\", \"great\", \"guest\", \"half\", \"happen\", \"happen\", \"happen\", \"happy\", \"head\", \"hotel\", \"hour\", \"hour\", \"however\", \"however\", \"job\", \"kid\", \"kid\", \"know\", \"know\", \"know\", \"know\", \"less\", \"let\", \"let\", \"let\", \"let\", \"line\", \"long\", \"look\", \"look\", \"look\", \"look\", \"lose\", \"lot\", \"lot\", \"love\", \"lunch\", \"magic\", \"magic\", \"magical\", \"make\", \"make\", \"make\", \"man\", \"many\", \"many\", \"meal\", \"meet\", \"member\", \"minute\", \"minute\", \"miss\", \"mountain\", \"much\", \"much\", \"never\", \"never\", \"new\", \"night\", \"night\", \"old\", \"old\", \"open\", \"open\", \"overall\", \"parade\", \"parent\", \"park\", \"park\", \"party\", \"pass\", \"pay\", \"pay\", \"people\", \"people\", \"photo\", \"pirate\", \"place\", \"plan\", \"plenty\", \"pm\", \"point\", \"point\", \"point\", \"pretty\", \"price\", \"price\", \"problem\", \"problem\", \"push\", \"put\", \"put\", \"put\", \"put\", \"queue\", \"queue\", \"quite\", \"really\", \"really\", \"restaurant\", \"restaurant\", \"restaurant\", \"ride\", \"room\", \"rude\", \"save\", \"say\", \"say\", \"say\", \"see\", \"see\", \"seem\", \"seem\", \"service\", \"service\", \"service\", \"short\", \"show\", \"show\", \"sign\", \"sign\", \"sister\", \"sit\", \"small\", \"small\", \"smoke\", \"smoking\", \"snack\", \"son\", \"space\", \"spend\", \"spend\", \"staff\", \"staff\", \"stand\", \"stand\", \"stand\", \"station\", \"stay\", \"stay\", \"stay\", \"studio\", \"table\", \"take\", \"take\", \"take\", \"tell\", \"tell\", \"terrible\", \"think\", \"think\", \"thunder\", \"ticket\", \"time\", \"time\", \"tip\", \"toilet\", \"train\", \"train\", \"trip\", \"trip\", \"turn\", \"turn\", \"turn\", \"use\", \"use\", \"ve\", \"village\", \"visit\", \"visit\", \"wait\", \"water\", \"weather\", \"week\", \"well\", \"well\", \"whole\", \"wonderful\", \"world\", \"world\", \"write\", \"year\", \"young\", \"young\"]}, \"R\": 30, \"lambda.step\": 0.01, \"plot.opts\": {\"xlab\": \"PC1\", \"ylab\": \"PC2\"}, \"topic.order\": [2, 3, 1, 4]};\n",
       "\n",
       "function LDAvis_load_lib(url, callback){\n",
       "  var s = document.createElement('script');\n",
       "  s.src = url;\n",
       "  s.async = true;\n",
       "  s.onreadystatechange = s.onload = callback;\n",
       "  s.onerror = function(){console.warn(\"failed to load library \" + url);};\n",
       "  document.getElementsByTagName(\"head\")[0].appendChild(s);\n",
       "}\n",
       "\n",
       "if(typeof(LDAvis) !== \"undefined\"){\n",
       "   // already loaded: just create the visualization\n",
       "   !function(LDAvis){\n",
       "       new LDAvis(\"#\" + \"ldavis_el1001217694741197603529972222\", ldavis_el1001217694741197603529972222_data);\n",
       "   }(LDAvis);\n",
       "}else if(typeof define === \"function\" && define.amd){\n",
       "   // require.js is available: use it to load d3/LDAvis\n",
       "   require.config({paths: {d3: \"https://d3js.org/d3.v5\"}});\n",
       "   require([\"d3\"], function(d3){\n",
       "      window.d3 = d3;\n",
       "      LDAvis_load_lib(\"https://cdn.jsdelivr.net/gh/bmabey/pyLDAvis@3.3.1/pyLDAvis/js/ldavis.v3.0.0.js\", function(){\n",
       "        new LDAvis(\"#\" + \"ldavis_el1001217694741197603529972222\", ldavis_el1001217694741197603529972222_data);\n",
       "      });\n",
       "    });\n",
       "}else{\n",
       "    // require.js not available: dynamically load d3 & LDAvis\n",
       "    LDAvis_load_lib(\"https://d3js.org/d3.v5.js\", function(){\n",
       "         LDAvis_load_lib(\"https://cdn.jsdelivr.net/gh/bmabey/pyLDAvis@3.3.1/pyLDAvis/js/ldavis.v3.0.0.js\", function(){\n",
       "                 new LDAvis(\"#\" + \"ldavis_el1001217694741197603529972222\", ldavis_el1001217694741197603529972222_data);\n",
       "            })\n",
       "         });\n",
       "}\n",
       "</script>"
      ],
      "text/plain": [
       "PreparedData(topic_coordinates=              x         y  topics  cluster       Freq\n",
       "topic                                                \n",
       "1     -0.158558 -0.004348       1        1  44.302168\n",
       "2     -0.170204 -0.259139       2        1  32.143189\n",
       "0     -0.059064  0.328902       3        1  16.283002\n",
       "3      0.387825 -0.065415       4        1   7.271640, topic_info=     Term          Freq         Total Category  logprob  loglift\n",
       "63   park  50565.000000  50565.000000  Default  30.0000  30.0000\n",
       "17   ride  47112.000000  47112.000000  Default  29.0000  29.0000\n",
       "48    get  33958.000000  33958.000000  Default  28.0000  28.0000\n",
       "133    go  42989.000000  42989.000000  Default  27.0000  27.0000\n",
       "3     day  32863.000000  32863.000000  Default  26.0000  26.0000\n",
       "..    ...           ...           ...      ...      ...      ...\n",
       "69   seem   1076.246910   4656.424509   Topic4  -5.0505   1.1564\n",
       "194  know   1028.522865   4732.678203   Topic4  -5.0958   1.0948\n",
       "333  look   1044.212049   5446.022814   Topic4  -5.0807   0.9696\n",
       "504   put    823.981612   2083.385028   Topic4  -5.3175   1.6936\n",
       "125  area    848.628343   3619.877479   Topic4  -5.2881   1.1706\n",
       "\n",
       "[229 rows x 6 columns], token_table=      Topic      Freq   Term\n",
       "term                        \n",
       "398       1  0.000792  adult\n",
       "398       2  0.999097  adult\n",
       "315       2  0.999966    age\n",
       "2209      4  0.998879  agree\n",
       "548       3  0.999787  allow\n",
       "...     ...       ...    ...\n",
       "24        2  0.990213  world\n",
       "1695      4  0.998640  write\n",
       "397       2  0.999976   year\n",
       "309       1  0.012570  young\n",
       "309       2  0.987438  young\n",
       "\n",
       "[295 rows x 3 columns], R=30, lambda_step=0.01, plot_opts={'xlab': 'PC1', 'ylab': 'PC2'}, topic_order=[2, 3, 1, 4])"
      ]
     },
     "execution_count": 23,
     "metadata": {},
     "output_type": "execute_result"
    }
   ],
   "source": [
    "# Visualize the topics\n",
    "pyLDAvis.enable_notebook()\n",
    "vis = pyLDAvis.gensim_models.prepare(lda_model, corpus, id2word)\n",
    "vis"
   ]
  },
  {
   "cell_type": "markdown",
   "id": "170f291c",
   "metadata": {},
   "source": [
    "From our topic model, we were able to obtain top keywords from each topic:\n",
    "* 44.3% of tokens about park, rides, queue and waiting.\n",
    "* 32.1% of tokens about positive and fun family park experience.\n",
    "* 16.3% of tokens about fast passes, restaurant, hotels and bookings.\n",
    "* 7.3% of tokens about customer service, maintainance, staff and behaviour"
   ]
  },
  {
   "cell_type": "code",
   "execution_count": null,
   "id": "5eccde81",
   "metadata": {},
   "outputs": [],
   "source": []
  }
 ],
 "metadata": {
  "hide_input": false,
  "kernelspec": {
   "display_name": "Python 3 (ipykernel)",
   "language": "python",
   "name": "python3"
  },
  "language_info": {
   "codemirror_mode": {
    "name": "ipython",
    "version": 3
   },
   "file_extension": ".py",
   "mimetype": "text/x-python",
   "name": "python",
   "nbconvert_exporter": "python",
   "pygments_lexer": "ipython3",
   "version": "3.10.2"
  }
 },
 "nbformat": 4,
 "nbformat_minor": 5
}
